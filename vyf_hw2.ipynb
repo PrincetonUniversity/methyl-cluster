{
 "cells": [
  {
   "cell_type": "code",
   "execution_count": 1,
   "metadata": {
    "collapsed": false
   },
   "outputs": [],
   "source": [
    "# Imports\n",
    "\n",
    "import numpy as np\n",
    "import pandas as pd\n",
    "import os, os.path\n",
    "from itertools import *\n",
    "%matplotlib inline\n",
    "import matplotlib.pyplot as plt\n",
    "import math\n",
    "import random\n",
    "import scipy.stats\n",
    "\n",
    "# Warnings\n",
    "\n",
    "import warnings\n",
    "warnings.filterwarnings('ignore')\n",
    "\n",
    "# Idempotent data retrieval script\n",
    "\n",
    "chromosomes = [1, 2, 6, 7, 11]\n",
    "def chromosome_files(n):\n",
    "    base = 'intersected_final_chr'\n",
    "    spec = '_cutoff_20_'\n",
    "    suffixes = ['train.bed', 'sample_partial.bed', 'sample_full.bed']\n",
    "    return [base + str(n) + spec + suffix for suffix in suffixes]\n",
    "all_files = set(chain.from_iterable(chromosome_files(n) for n in chromosomes))\n",
    "\n",
    "if 'methylation_imputation' not in [x for x in os.listdir('.') if os.path.isdir(x)]:\n",
    "    raise Exception('Missing assignment repository in cwd')\n",
    "\n",
    "if not os.path.exists('data'):\n",
    "    os.mkdir('data')\n",
    "\n",
    "def all_files_present(): return all_files.issubset(set(os.listdir('data')))\n",
    "if not all_files_present():\n",
    "    ! gunzip -k methylation_imputation/data/*.bed.gz\n",
    "    ! mv methylation_imputation/data/*.bed data/\n",
    "    if not all_files_present():\n",
    "        raise Exception('Error unpacking data')\n",
    "\n",
    "def read_tsv(name): return pd.read_csv(name, sep='\\t', header=None)\n",
    "train_chr1 = read_tsv('data/' + chromosome_files(1)[0])\n",
    "test_chr1_partial = read_tsv('data/' + chromosome_files(1)[1])\n",
    "test_chr1_full = read_tsv('data/' + chromosome_files(1)[2])\n",
    "\n",
    "unknown_chr1_ix = np.where((test_chr1_partial[5] == 0) & ~np.isnan(test_chr1_full[4]))[0]\n",
    "known_chr1_ix = np.where((test_chr1_partial[5] == 1) & ~np.isnan(test_chr1_partial[4]))[0]\n",
    "\n",
    "train_df = train_chr1\n",
    "train_chromosomes = ['b' + str(x) for x in range(train_chr1.shape[1] - 4)]\n",
    "train_df.columns = ['chromosome', 'start', 'end', 'strand'] + train_chromosomes\n",
    "\n",
    "test_df = test_chr1_full\n",
    "test_df.columns = ['chromosome', 'start', 'end', 'strand', 'filled', 'assayed']\n",
    "test_df['missing'] = test_chr1_partial[4]"
   ]
  },
  {
   "cell_type": "code",
   "execution_count": 2,
   "metadata": {
    "collapsed": false
   },
   "outputs": [
    {
     "data": {
      "text/html": [
       "<div>\n",
       "<table border=\"1\" class=\"dataframe\">\n",
       "  <thead>\n",
       "    <tr style=\"text-align: right;\">\n",
       "      <th></th>\n",
       "      <th>chromosome</th>\n",
       "      <th>start</th>\n",
       "      <th>end</th>\n",
       "      <th>strand</th>\n",
       "      <th>b0</th>\n",
       "      <th>b1</th>\n",
       "      <th>b2</th>\n",
       "      <th>b3</th>\n",
       "      <th>b4</th>\n",
       "      <th>b5</th>\n",
       "      <th>...</th>\n",
       "      <th>b24</th>\n",
       "      <th>b25</th>\n",
       "      <th>b26</th>\n",
       "      <th>b27</th>\n",
       "      <th>b28</th>\n",
       "      <th>b29</th>\n",
       "      <th>b30</th>\n",
       "      <th>b31</th>\n",
       "      <th>b32</th>\n",
       "      <th>b33</th>\n",
       "    </tr>\n",
       "  </thead>\n",
       "  <tbody>\n",
       "    <tr>\n",
       "      <th>267</th>\n",
       "      <td>chr1</td>\n",
       "      <td>121511</td>\n",
       "      <td>121513</td>\n",
       "      <td>+</td>\n",
       "      <td>0.714286</td>\n",
       "      <td>0.739130</td>\n",
       "      <td>0.800000</td>\n",
       "      <td>0.782609</td>\n",
       "      <td>0.794872</td>\n",
       "      <td>0.750000</td>\n",
       "      <td>...</td>\n",
       "      <td>0.860465</td>\n",
       "      <td>0.789474</td>\n",
       "      <td>NaN</td>\n",
       "      <td>0.727273</td>\n",
       "      <td>0.896552</td>\n",
       "      <td>0.810811</td>\n",
       "      <td>0.809524</td>\n",
       "      <td>0.842105</td>\n",
       "      <td>0.880000</td>\n",
       "      <td>0</td>\n",
       "    </tr>\n",
       "    <tr>\n",
       "      <th>268</th>\n",
       "      <td>chr1</td>\n",
       "      <td>121516</td>\n",
       "      <td>121518</td>\n",
       "      <td>+</td>\n",
       "      <td>0.857143</td>\n",
       "      <td>0.800000</td>\n",
       "      <td>0.833333</td>\n",
       "      <td>0.913043</td>\n",
       "      <td>0.909091</td>\n",
       "      <td>0.806452</td>\n",
       "      <td>...</td>\n",
       "      <td>0.931818</td>\n",
       "      <td>0.888889</td>\n",
       "      <td>NaN</td>\n",
       "      <td>0.840000</td>\n",
       "      <td>0.862069</td>\n",
       "      <td>0.756757</td>\n",
       "      <td>0.916667</td>\n",
       "      <td>0.833333</td>\n",
       "      <td>0.916667</td>\n",
       "      <td>0</td>\n",
       "    </tr>\n",
       "    <tr>\n",
       "      <th>269</th>\n",
       "      <td>chr1</td>\n",
       "      <td>122736</td>\n",
       "      <td>122738</td>\n",
       "      <td>-</td>\n",
       "      <td>0.545455</td>\n",
       "      <td>0.384615</td>\n",
       "      <td>0.472727</td>\n",
       "      <td>NaN</td>\n",
       "      <td>0.436364</td>\n",
       "      <td>0.580000</td>\n",
       "      <td>...</td>\n",
       "      <td>0.487179</td>\n",
       "      <td>NaN</td>\n",
       "      <td>NaN</td>\n",
       "      <td>NaN</td>\n",
       "      <td>0.413043</td>\n",
       "      <td>0.462963</td>\n",
       "      <td>0.533333</td>\n",
       "      <td>0.659574</td>\n",
       "      <td>0.682927</td>\n",
       "      <td>0</td>\n",
       "    </tr>\n",
       "    <tr>\n",
       "      <th>270</th>\n",
       "      <td>chr1</td>\n",
       "      <td>122869</td>\n",
       "      <td>122871</td>\n",
       "      <td>-</td>\n",
       "      <td>0.837838</td>\n",
       "      <td>0.814815</td>\n",
       "      <td>0.725000</td>\n",
       "      <td>0.807692</td>\n",
       "      <td>0.710526</td>\n",
       "      <td>0.565217</td>\n",
       "      <td>...</td>\n",
       "      <td>0.629630</td>\n",
       "      <td>NaN</td>\n",
       "      <td>NaN</td>\n",
       "      <td>NaN</td>\n",
       "      <td>0.755556</td>\n",
       "      <td>0.590909</td>\n",
       "      <td>0.681818</td>\n",
       "      <td>0.657143</td>\n",
       "      <td>NaN</td>\n",
       "      <td>0</td>\n",
       "    </tr>\n",
       "    <tr>\n",
       "      <th>271</th>\n",
       "      <td>chr1</td>\n",
       "      <td>122884</td>\n",
       "      <td>122886</td>\n",
       "      <td>-</td>\n",
       "      <td>0.842105</td>\n",
       "      <td>0.821429</td>\n",
       "      <td>0.720930</td>\n",
       "      <td>0.800000</td>\n",
       "      <td>0.795455</td>\n",
       "      <td>0.478261</td>\n",
       "      <td>...</td>\n",
       "      <td>0.617021</td>\n",
       "      <td>NaN</td>\n",
       "      <td>NaN</td>\n",
       "      <td>NaN</td>\n",
       "      <td>0.682927</td>\n",
       "      <td>0.562500</td>\n",
       "      <td>0.739130</td>\n",
       "      <td>0.666667</td>\n",
       "      <td>0.756098</td>\n",
       "      <td>0</td>\n",
       "    </tr>\n",
       "    <tr>\n",
       "      <th>272</th>\n",
       "      <td>chr1</td>\n",
       "      <td>127749</td>\n",
       "      <td>127751</td>\n",
       "      <td>+</td>\n",
       "      <td>0.633333</td>\n",
       "      <td>0.473684</td>\n",
       "      <td>0.703704</td>\n",
       "      <td>0.611111</td>\n",
       "      <td>0.827586</td>\n",
       "      <td>0.666667</td>\n",
       "      <td>...</td>\n",
       "      <td>0.782609</td>\n",
       "      <td>0.800000</td>\n",
       "      <td>NaN</td>\n",
       "      <td>0.812500</td>\n",
       "      <td>0.500000</td>\n",
       "      <td>0.812500</td>\n",
       "      <td>0.840909</td>\n",
       "      <td>0.687500</td>\n",
       "      <td>0.807692</td>\n",
       "      <td>0</td>\n",
       "    </tr>\n",
       "  </tbody>\n",
       "</table>\n",
       "<p>6 rows × 38 columns</p>\n",
       "</div>"
      ],
      "text/plain": [
       "    chromosome   start     end strand        b0        b1        b2        b3  \\\n",
       "267       chr1  121511  121513      +  0.714286  0.739130  0.800000  0.782609   \n",
       "268       chr1  121516  121518      +  0.857143  0.800000  0.833333  0.913043   \n",
       "269       chr1  122736  122738      -  0.545455  0.384615  0.472727       NaN   \n",
       "270       chr1  122869  122871      -  0.837838  0.814815  0.725000  0.807692   \n",
       "271       chr1  122884  122886      -  0.842105  0.821429  0.720930  0.800000   \n",
       "272       chr1  127749  127751      +  0.633333  0.473684  0.703704  0.611111   \n",
       "\n",
       "           b4        b5 ...        b24       b25  b26       b27       b28  \\\n",
       "267  0.794872  0.750000 ...   0.860465  0.789474  NaN  0.727273  0.896552   \n",
       "268  0.909091  0.806452 ...   0.931818  0.888889  NaN  0.840000  0.862069   \n",
       "269  0.436364  0.580000 ...   0.487179       NaN  NaN       NaN  0.413043   \n",
       "270  0.710526  0.565217 ...   0.629630       NaN  NaN       NaN  0.755556   \n",
       "271  0.795455  0.478261 ...   0.617021       NaN  NaN       NaN  0.682927   \n",
       "272  0.827586  0.666667 ...   0.782609  0.800000  NaN  0.812500  0.500000   \n",
       "\n",
       "          b29       b30       b31       b32  b33  \n",
       "267  0.810811  0.809524  0.842105  0.880000    0  \n",
       "268  0.756757  0.916667  0.833333  0.916667    0  \n",
       "269  0.462963  0.533333  0.659574  0.682927    0  \n",
       "270  0.590909  0.681818  0.657143       NaN    0  \n",
       "271  0.562500  0.739130  0.666667  0.756098    0  \n",
       "272  0.812500  0.840909  0.687500  0.807692    0  \n",
       "\n",
       "[6 rows x 38 columns]"
      ]
     },
     "execution_count": 2,
     "metadata": {},
     "output_type": "execute_result"
    }
   ],
   "source": [
    "train_df.loc[range(267, 273)]"
   ]
  },
  {
   "cell_type": "code",
   "execution_count": 3,
   "metadata": {
    "collapsed": false
   },
   "outputs": [
    {
     "name": "stdout",
     "output_type": "stream",
     "text": [
      "Chromosome 1\n",
      "Total samples 379551\n",
      "Site lengths {2: 379551}\n",
      "Strand types {'+': 378087, '-': 1464}\n",
      "Known (test) sample site counts 7523\n",
      "Unknown (test) sample site counts 368411\n",
      "NaN ratio in all train samples 0.0849950103582\n",
      "NaN ratio in test 0.980179211753\n"
     ]
    }
   ],
   "source": [
    "assert len(train_df) == len(test_df)\n",
    "def count_unique(col):\n",
    "    return {x:sum(col == x) for x in set(col)}\n",
    "\n",
    "print('Chromosome 1')\n",
    "print('Total samples', len(train_df))\n",
    "print('Site lengths', count_unique(train_df['end'] - train_chr1['start']))\n",
    "print('Strand types', count_unique(train_df['strand']))\n",
    "print('Known (test) sample site counts', len(known_chr1_ix))\n",
    "print('Unknown (test) sample site counts', len(unknown_chr1_ix))\n",
    "print('NaN ratio in all train samples',\n",
    "      sum(sum(np.isnan(train_df[train_chromosomes].values))) / (len(train_df) * len(train_chromosomes)))\n",
    "print('NaN ratio in test', sum(np.isnan(test_df['missing'])) / len(test_df))\n",
    "assert sum(test_df['strand'] != train_df['strand']) == 0"
   ]
  },
  {
   "cell_type": "code",
   "execution_count": 4,
   "metadata": {
    "collapsed": false
   },
   "outputs": [
    {
     "data": {
      "image/png": "[encoded data removed]",
      "text/plain": [
       "<matplotlib.figure.Figure at 0x7ff40cf3b6a0>"
      ]
     },
     "metadata": {},
     "output_type": "display_data"
    },
    {
     "name": "stdout",
     "output_type": "stream",
     "text": [
      "avg length between known sites 50.2903483116\n",
      "sd of number of bp between sites 86.9614546017\n"
     ]
    },
    {
     "data": {
      "image/png": "[encoded data removed]",
      "text/plain": [
       "<matplotlib.figure.Figure at 0x7ff3d49c1080>"
      ]
     },
     "metadata": {},
     "output_type": "display_data"
    }
   ],
   "source": [
    "# Make sure our samples are pretty uniform from the genomic range\n",
    "def ticks(n): return np.arange(0.0, n) / n\n",
    "plt.plot(ticks(len(known_chr1_ix)), known_chr1_ix / len(train_df), '.')\n",
    "plt.plot([0, 1])\n",
    "plt.axes().set_aspect('equal')\n",
    "plt.xlabel('CpG sample')\n",
    "plt.ylabel('entire chromosome')\n",
    "plt.title('QQ-plot of site positions')\n",
    "plt.show()\n",
    "\n",
    "diffs = np.diff(known_chr1_ix)\n",
    "print('avg length between known sites', np.mean(diffs))\n",
    "print('sd of number of bp between sites', np.std(diffs))\n",
    "plt.plot(np.diff(known_chr1_ix))\n",
    "plt.xlabel('length between known sites')\n",
    "plt.ylabel('frequency')\n",
    "plt.title('histogram of adjacent site information')\n",
    "plt.show()"
   ]
  },
  {
   "cell_type": "code",
   "execution_count": 5,
   "metadata": {
    "collapsed": false
   },
   "outputs": [
    {
     "data": {
      "image/png": "[encoded data removed]",
      "text/plain": [
       "<matplotlib.figure.Figure at 0x7ff3d4946860>"
      ]
     },
     "metadata": {},
     "output_type": "display_data"
    }
   ],
   "source": [
    "# Observe nearby site correlations\n",
    "def drop_nan_corr(x, y):\n",
    "    ix = np.where(~np.isnan(y) & ~np.isnan(x))\n",
    "    return scipy.stats.pearsonr(x[ix], y[ix])[0]\n",
    "# Choose a random site, check neighbors within vicinity of 'reach'\n",
    "reach = list(range(30))\n",
    "reach = [-x for x in reversed(reach)] + reach[1:]\n",
    "def sample_corr(reach):\n",
    "    site = random.randint(max(reach), len(train_chr1) - max(reach) - 1)\n",
    "    y = np.array(train_df.iloc[site][train_chromosomes]\n",
    "                 .values).astype(np.float64)\n",
    "    nbrs = [site + i for i in reach]\n",
    "    xs = np.array(train_df.iloc[nbrs][train_chromosomes]\n",
    "                  .values).astype(np.float64)\n",
    "    return np.array([drop_nan_corr(x, y) for x in xs])\n",
    "\n",
    "sample = 1000\n",
    "test = np.array([sample_corr(reach) for i in range(sample)])\n",
    "plt.errorbar(reach, np.mean(test, axis=0), fmt='-o', yerr=np.std(test, axis=0))\n",
    "plt.title('within chromosome neighbor correlation (n={})'.format(sample))\n",
    "plt.ylabel('across chromosomes samples')\n",
    "plt.xlabel('site displacement')\n",
    "plt.show()"
   ]
  },
  {
   "cell_type": "code",
   "execution_count": 6,
   "metadata": {
    "collapsed": false
   },
   "outputs": [
    {
     "name": "stdout",
     "output_type": "stream",
     "text": [
      "orig : rolling mean stddevs 4.82644303914\n"
     ]
    },
    {
     "data": {
      "text/plain": [
       "[<matplotlib.lines.Line2D at 0x7ff3d4788780>]"
      ]
     },
     "execution_count": 6,
     "metadata": {},
     "output_type": "execute_result"
    },
    {
     "data": {
      "image/png": "[encoded data removed]",
      "text/plain": [
       "<matplotlib.figure.Figure at 0x7ff3d49a6470>"
      ]
     },
     "metadata": {},
     "output_type": "display_data"
    }
   ],
   "source": [
    "# Perhaps there are obvious sequence trends?\n",
    "def local_impute(data):\n",
    "    #http://stackoverflow.com/questions/9537543/replace-nans-in-numpy-array-with-closest-non-nan-value\n",
    "    mask = np.isnan(data)\n",
    "    data[mask] = np.interp(np.flatnonzero(mask), np.flatnonzero(~mask), data[~mask])\n",
    "    return data\n",
    "\n",
    "x = local_impute(np.copy(train_df['b0']))\n",
    "rolled = pd.Series(x).rolling(window=1000, win_type='boxcar').mean()\n",
    "plt.figure(figsize=(10, 2))\n",
    "print('orig : rolling mean stddevs', np.std(x) / np.std(rolled))\n",
    "plt.title('rolling mean (n = 1000) methylation levels in train chromosome 0')\n",
    "plt.xlabel('genomic position')\n",
    "plt.ylabel('mean methyl. prop.')\n",
    "plt.plot(rolled)"
   ]
  },
  {
   "cell_type": "code",
   "execution_count": 36,
   "metadata": {
    "collapsed": false
   },
   "outputs": [
    {
     "name": "stdout",
     "output_type": "stream",
     "text": [
      "interpolation\n",
      "rmse 0.237903813067756 methylation acc 0.84662781513\n",
      "mean from known beta\n",
      "rmse 0.179393104914703 methylation acc 0.932664876999\n",
      "overfit mean from unknown beta\n",
      "rmse 0.1691002902217554 methylation acc 0.932664876999\n",
      "train std 0.2363237974 test std 0.169100290222\n"
     ]
    }
   ],
   "source": [
    "# No trends, but clearly we can impute from local neighbor data.\n",
    "# Try using no information for our test chromosome as a baseline.\n",
    "def pandas_rmse(attempt):\n",
    "    # http://stackoverflow.com/questions/27783494/root-mean-square-error-of-two-pandas-series\n",
    "    diff = attempt.iloc[unknown_chr1_ix].sub(test_df['filled'].iloc[unknown_chr1_ix])\n",
    "    return math.sqrt(diff.pow(2).mean())\n",
    "def correct_half(attempt):\n",
    "    methylated_guess = attempt.iloc[unknown_chr1_ix] >= 0.5\n",
    "    methylated_exact = test_df['filled'].iloc[unknown_chr1_ix] >= 0.5\n",
    "    return sum(methylated_guess == methylated_exact) / len(methylated_guess)\n",
    "\n",
    "interpolation_fill = local_impute(test_df['missing'].copy())\n",
    "def eval(x): print('rmse', pandas_rmse(x), 'methylation acc', correct_half(x))\n",
    "print('interpolation')\n",
    "eval(interpolation_fill)\n",
    "\n",
    "print('mean from known beta')\n",
    "eval(pd.Series(np.full(len(test_df), np.mean(test_df['filled'][known_chr1_ix]))))\n",
    "\n",
    "print('overfit mean from unknown beta')\n",
    "eval(pd.Series(np.full(len(test_df), np.mean(test_df['filled'][unknown_chr1_ix]))))\n",
    "\n",
    "print('train std', np.std(test_df['filled'][known_chr1_ix]),\n",
    "      'test std',  np.std(test_df['filled'][unknown_chr1_ix]))"
   ]
  },
  {
   "cell_type": "code",
   "execution_count": 8,
   "metadata": {
    "collapsed": false
   },
   "outputs": [
    {
     "name": "stdout",
     "output_type": "stream",
     "text": [
      "rmse 0.12896690356184323 methylation acc 0.952914000939\n"
     ]
    }
   ],
   "source": [
    "# Site-dependent information seems to do a bit better:\n",
    "eval(train_df[train_chromosomes].mean(axis=1))"
   ]
  },
  {
   "cell_type": "code",
   "execution_count": 9,
   "metadata": {
    "collapsed": false
   },
   "outputs": [
    {
     "name": "stdout",
     "output_type": "stream",
     "text": [
      "rmse 0.12801121053064327 methylation acc 0.954903626656\n"
     ]
    }
   ],
   "source": [
    "s = 1 / 20 # choice is important! need cross-val for 'proper' selection.\n",
    "# However, this confirms the interpolation does provide some valuable info as well \n",
    "# How to combine intelligently? It can't just be a feature (else we have a perfect predictor)\n",
    "eval((train_df[train_chromosomes].mean(axis=1) + interpolation_fill * s) / (1+s))"
   ]
  },
  {
   "cell_type": "code",
   "execution_count": 10,
   "metadata": {
    "collapsed": false
   },
   "outputs": [
    {
     "ename": "NameError",
     "evalue": "name 'STRAND_TYPE' is not defined",
     "output_type": "error",
     "traceback": [
      "\u001b[1;31m---------------------------------------------------------------------------\u001b[0m",
      "\u001b[1;31mNameError\u001b[0m                                 Traceback (most recent call last)",
      "\u001b[1;32m<ipython-input-10-15ecca37f050>\u001b[0m in \u001b[0;36m<module>\u001b[1;34m()\u001b[0m\n\u001b[0;32m      1\u001b[0m \u001b[1;31m# closest-filter on input data; other chromosomes -> glm (cross val on 33)\u001b[0m\u001b[1;33m\u001b[0m\u001b[1;33m\u001b[0m\u001b[0m\n\u001b[1;32m----> 2\u001b[1;33m \u001b[0mtrain_strands\u001b[0m \u001b[1;33m=\u001b[0m \u001b[0mnp\u001b[0m\u001b[1;33m.\u001b[0m\u001b[0marray\u001b[0m\u001b[1;33m(\u001b[0m\u001b[1;33m(\u001b[0m\u001b[0mtrain_chr1\u001b[0m\u001b[1;33m[\u001b[0m\u001b[0mSTRAND_TYPE\u001b[0m\u001b[1;33m]\u001b[0m \u001b[1;33m==\u001b[0m \u001b[1;34m'+'\u001b[0m\u001b[1;33m)\u001b[0m\u001b[1;33m.\u001b[0m\u001b[0mvalues\u001b[0m\u001b[1;33m)\u001b[0m\u001b[1;33m.\u001b[0m\u001b[0mastype\u001b[0m\u001b[1;33m(\u001b[0m\u001b[0mnp\u001b[0m\u001b[1;33m.\u001b[0m\u001b[0mfloat64\u001b[0m\u001b[1;33m)\u001b[0m\u001b[1;33m\u001b[0m\u001b[0m\n\u001b[0m\u001b[0;32m      3\u001b[0m \u001b[0mtrain_betas\u001b[0m \u001b[1;33m=\u001b[0m \u001b[0mtrain_chr1\u001b[0m\u001b[1;33m.\u001b[0m\u001b[0mas_matrix\u001b[0m\u001b[1;33m(\u001b[0m\u001b[0mTRAIN_COLS\u001b[0m\u001b[1;33m)\u001b[0m\u001b[1;33m.\u001b[0m\u001b[0mastype\u001b[0m\u001b[1;33m(\u001b[0m\u001b[0mnp\u001b[0m\u001b[1;33m.\u001b[0m\u001b[0mfloat64\u001b[0m\u001b[1;33m)\u001b[0m\u001b[1;33m\u001b[0m\u001b[0m\n\u001b[0;32m      4\u001b[0m \u001b[0mtrain_betas\u001b[0m \u001b[1;33m=\u001b[0m \u001b[0mnp\u001b[0m\u001b[1;33m.\u001b[0m\u001b[0mapply_along_axis\u001b[0m\u001b[1;33m(\u001b[0m\u001b[0mlocal_impute\u001b[0m\u001b[1;33m,\u001b[0m \u001b[1;36m1\u001b[0m\u001b[1;33m,\u001b[0m \u001b[0mtrain_betas\u001b[0m\u001b[1;33m)\u001b[0m\u001b[1;33m\u001b[0m\u001b[0m\n\u001b[0;32m      5\u001b[0m \u001b[0mX\u001b[0m \u001b[1;33m=\u001b[0m \u001b[0mnp\u001b[0m\u001b[1;33m.\u001b[0m\u001b[0mhstack\u001b[0m\u001b[1;33m(\u001b[0m\u001b[1;33m(\u001b[0m\u001b[0mtrain_betas\u001b[0m\u001b[1;33m,\u001b[0m \u001b[0mtrain_strands\u001b[0m\u001b[1;33m.\u001b[0m\u001b[0mreshape\u001b[0m\u001b[1;33m(\u001b[0m\u001b[0mlen\u001b[0m\u001b[1;33m(\u001b[0m\u001b[0mtrain_strands\u001b[0m\u001b[1;33m)\u001b[0m\u001b[1;33m,\u001b[0m \u001b[1;36m1\u001b[0m\u001b[1;33m)\u001b[0m\u001b[1;33m)\u001b[0m\u001b[1;33m)\u001b[0m\u001b[1;33m\u001b[0m\u001b[0m\n",
      "\u001b[1;31mNameError\u001b[0m: name 'STRAND_TYPE' is not defined"
     ]
    }
   ],
   "source": [
    "# closest-filter on input data; other chromosomes -> glm (cross val on 33)\n",
    "train_strands = np.array((train_chr1[STRAND_TYPE] == '+').values).astype(np.float64)\n",
    "train_betas = train_chr1.as_matrix(TRAIN_COLS).astype(np.float64)\n",
    "train_betas = np.apply_along_axis(local_impute, 1, train_betas)\n",
    "X = np.hstack((train_betas, train_strands.reshape(len(train_strands), 1)))\n",
    "print('X shape', X.shape)\n",
    "Y = np.array(test_chr1_full[TEST_COL].values).astype(np.float64)\n",
    "trainX, trainY = X[known_chr1_ix], Y[known_chr1_ix]\n",
    "testX, testY = X[unknown_chr1_ix], Y[unknown_chr1_ix]\n",
    "\n",
    "# logistic and linear regression from sklearn here. try poly features. Try adding interpolated info?\n",
    "\n",
    "# Beta as a first-run\n",
    "#sm.GLM(trainX, trainY, )\n",
    "# eval how out-of sample we are with the explanatory variables (extrapolation not interp)\n",
    "\n",
    "# rf regression\n",
    "# cluster-based glm decision tree -> 4 clusters (GMM), then glm (or rf)\n",
    "# verify cluster hypothesis (GMM likelihood over K)\n",
    "# Add encode data"
   ]
  },
  {
   "cell_type": "code",
   "execution_count": 11,
   "metadata": {
    "collapsed": false
   },
   "outputs": [],
   "source": [
    "# Annoying R interfacing for beta regression\n",
    "# https://sites.google.com/site/aslugsguidetopython/data-analysis/pandas/calling-r-from-python\n",
    "\n",
    "# TODO rm extra imports\n",
    "#from numpy import *\n",
    "#import scipy as sp\n",
    "#from pandas import *\n",
    "from rpy2.robjects.packages import importr\n",
    "import rpy2.robjects as ro\n",
    "import pandas.rpy.common as com\n",
    "import rpy2.robjects.numpy2ri\n",
    "rpy2.robjects.numpy2ri.activate()\n",
    "\n",
    "# Do local imputation on our training data\n",
    "train_df_interp = train_df\n",
    "for i in train_chromosomes:\n",
    "    train_df_interp[i] = local_impute(train_df[i].copy())\n",
    "train_rdf = com.convert_to_r_dataframe(train_df)\n",
    "test_rdf = com.convert_to_r_dataframe(test_df)"
   ]
  },
  {
   "cell_type": "code",
   "execution_count": 12,
   "metadata": {
    "collapsed": false
   },
   "outputs": [],
   "source": [
    "ro.globalenv['train_rdf'] = train_rdf\n",
    "ro.globalenv['test_rdf'] = test_rdf\n",
    "ro.globalenv['train_ix'] = known_chr1_ix + 1\n",
    "ro.globalenv['test_ix'] = unknown_chr1_ix + 1"
   ]
  },
  {
   "cell_type": "code",
   "execution_count": 22,
   "metadata": {
    "collapsed": false
   },
   "outputs": [
    {
     "name": "stdout",
     "output_type": "stream",
     "text": [
      "\n",
      "Call:\n",
      "lm(formula = test_rdf$filled ~ b0 + b1 + b2 + b3 + b4 + b5 + \n",
      "    b6 + b7 + b8 + b9 + b10 + b11 + b12 + b13 + b14 + b15 + b16 + \n",
      "    b17 + b18 + b19 + b20 + b21 + b22 + b23 + b24 + b25 + b26 + \n",
      "    b27 + b28 + b29 + b30 + b31 + b32 + b33, data = train_rdf, \n",
      "    subset = train_ix)\n",
      "\n",
      "Residuals:\n",
      "      Min        1Q    Median        3Q       Max \n",
      "-0.289417 -0.033576  0.002631  0.035622  0.312194 \n",
      "\n",
      "Coefficients: (1 not defined because of singularities)\n",
      "              Estimate Std. Error t value Pr(>|t|)    \n",
      "(Intercept) -0.0144293  0.0046838  -3.081  0.00207 ** \n",
      "b0          -0.0077533  0.0094089  -0.824  0.40994    \n",
      "b1           0.0167026  0.0087456   1.910  0.05619 .  \n",
      "b2          -0.0068301  0.0092724  -0.737  0.46138    \n",
      "b3          -0.0092217  0.0083037  -1.111  0.26680    \n",
      "b4          -0.0598107  0.0074321  -8.048 9.74e-16 ***\n",
      "b5           0.0129791  0.0091790   1.414  0.15740    \n",
      "b6           0.0610099  0.0105800   5.767 8.41e-09 ***\n",
      "b7           0.0074064  0.0071773   1.032  0.30214    \n",
      "b8           0.0172678  0.0057755   2.990  0.00280 ** \n",
      "b9           0.0175063  0.0069181   2.530  0.01141 *  \n",
      "b10         -0.0064668  0.0052659  -1.228  0.21947    \n",
      "b11          0.0066610  0.0048223   1.381  0.16723    \n",
      "b12         -0.0076618  0.0042396  -1.807  0.07077 .  \n",
      "b13         -0.0009900  0.0050942  -0.194  0.84591    \n",
      "b14         -0.0049530  0.0049961  -0.991  0.32154    \n",
      "b15          0.0044568  0.0080580   0.553  0.58022    \n",
      "b16         -0.0016736  0.0072710  -0.230  0.81797    \n",
      "b17          0.0032008  0.0046413   0.690  0.49044    \n",
      "b18         -0.0266928  0.0081604  -3.271  0.00108 ** \n",
      "b19          0.5921898  0.0099992  59.224  < 2e-16 ***\n",
      "b20          0.1038043  0.0102984  10.080  < 2e-16 ***\n",
      "b21          0.0975718  0.0088901  10.975  < 2e-16 ***\n",
      "b22          0.1126649  0.0085522  13.174  < 2e-16 ***\n",
      "b23          0.0416979  0.0089031   4.684 2.87e-06 ***\n",
      "b24         -0.0509077  0.0092510  -5.503 3.86e-08 ***\n",
      "b25          0.0002554  0.0038036   0.067  0.94647    \n",
      "b26          0.0091551  0.0049770   1.839  0.06588 .  \n",
      "b27          0.0020439  0.0059146   0.346  0.72967    \n",
      "b28         -0.0081698  0.0040573  -2.014  0.04408 *  \n",
      "b29          0.0096944  0.0063289   1.532  0.12562    \n",
      "b30         -0.0017845  0.0085395  -0.209  0.83448    \n",
      "b31          0.0970780  0.0095003  10.218  < 2e-16 ***\n",
      "b32         -0.0036061  0.0047281  -0.763  0.44566    \n",
      "b33                 NA         NA      NA       NA    \n",
      "---\n",
      "Signif. codes:  0 ‘***’ 0.001 ‘**’ 0.01 ‘*’ 0.05 ‘.’ 0.1 ‘ ’ 1\n",
      "\n",
      "Residual standard error: 0.06067 on 7489 degrees of freedom\n",
      "Multiple R-squared:  0.9344,\tAdjusted R-squared:  0.9341 \n",
      "F-statistic:  3232 on 33 and 7489 DF,  p-value: < 2.2e-16\n",
      "\n",
      "\n"
     ]
    }
   ],
   "source": [
    "rcmd = 'lm(test_rdf$filled ~ ' + ' + '.join(train_chromosomes) + ', data=train_rdf, subset=train_ix)'\n",
    "ro.r('fit <- ' + rcmd)\n",
    "print(ro.r('summary(fit)'))"
   ]
  },
  {
   "cell_type": "code",
   "execution_count": 30,
   "metadata": {
    "collapsed": false
   },
   "outputs": [
    {
     "name": "stdout",
     "output_type": "stream",
     "text": [
      "lm rmse [ 0.05964656]\n"
     ]
    },
    {
     "data": {
      "text/plain": [
       "array([ -1.44293357e-02,  -7.75333075e-03,   1.67026215e-02,\n",
       "        -6.83014508e-03,  -9.22171507e-03,  -5.98106731e-02,\n",
       "         1.29791383e-02,   6.10099098e-02,   7.40638950e-03,\n",
       "         1.72678097e-02,   1.75063144e-02,  -6.46676632e-03,\n",
       "         6.66095757e-03,  -7.66177542e-03,  -9.90022293e-04,\n",
       "        -4.95296254e-03,   4.45678584e-03,  -1.67357579e-03,\n",
       "         3.20081153e-03,  -2.66928293e-02,   5.92189845e-01,\n",
       "         1.03804344e-01,   9.75717545e-02,   1.12664918e-01,\n",
       "         4.16979418e-02,  -5.09076914e-02,   2.55401900e-04,\n",
       "         9.15506232e-03,   2.04393514e-03,  -8.16984509e-03,\n",
       "         9.69442906e-03,  -1.78446537e-03,   9.70780300e-02,\n",
       "        -3.60613238e-03,   0.00000000e+00])"
      ]
     },
     "execution_count": 30,
     "metadata": {},
     "output_type": "execute_result"
    }
   ],
   "source": [
    "rpred = 'predict(fit, train_rdf[test_ix,])'\n",
    "rexact = 'test_rdf[test_ix,]$filled'\n",
    "print('lm rmse', ro.r('sqrt(mean((' + rpred + '-' + rexact + ') ^ 2))'))\n",
    "ro.r('linear_coef <- coef(fit)')\n",
    "ro.r('linear_coef[length(linear_coef)] = 0')\n",
    "ro.r('linear_coef')\n",
    "# TODO: does this match python lm?"
   ]
  },
  {
   "cell_type": "code",
   "execution_count": 32,
   "metadata": {
    "collapsed": false
   },
   "outputs": [
    {
     "name": "stdout",
     "output_type": "stream",
     "text": [
      "\n",
      "Call:\n",
      "betareg(formula = test_rdf$filled ~ b0 + b1 + b2 + b3 + b4 + b5 + b6 + \n",
      "    b7 + b8 + b9 + b10 + b11 + b12 + b13 + b14 + b15 + b16 + b17 + b18 + \n",
      "    b19 + b20 + b21 + b22 + b23 + b24 + b25 + b26 + b27 + b28 + b29 + \n",
      "    b30 + b31 + b32, data = train_rdf, subset = train_ix, start = list(mean = head(linear_coef, \n",
      "    -1), precision = 1))\n",
      "\n",
      "Standardized weighted residuals 2:\n",
      "    Min      1Q  Median      3Q     Max \n",
      "-4.2495 -0.6295  0.0209  0.6730  5.6485 \n",
      "\n",
      "Coefficients (mean model with logit link):\n",
      "             Estimate Std. Error z value Pr(>|z|)    \n",
      "(Intercept) -2.704774   0.031578 -85.654  < 2e-16 ***\n",
      "b0          -0.146542   0.063241  -2.317 0.020493 *  \n",
      "b1           0.146284   0.058725   2.491 0.012738 *  \n",
      "b2          -0.053934   0.061910  -0.871 0.383666    \n",
      "b3          -0.013670   0.056092  -0.244 0.807462    \n",
      "b4          -0.278414   0.046823  -5.946 2.75e-09 ***\n",
      "b5           0.084957   0.057229   1.485 0.137674    \n",
      "b6           0.228480   0.066530   3.434 0.000594 ***\n",
      "b7           0.136219   0.045801   2.974 0.002938 ** \n",
      "b8           0.176528   0.039223   4.501 6.77e-06 ***\n",
      "b9           0.196411   0.046808   4.196 2.72e-05 ***\n",
      "b10         -0.029307   0.035025  -0.837 0.402744    \n",
      "b11          0.096250   0.033342   2.887 0.003893 ** \n",
      "b12         -0.028414   0.028723  -0.989 0.322549    \n",
      "b13         -0.024898   0.034264  -0.727 0.467437    \n",
      "b14          0.027194   0.033743   0.806 0.420287    \n",
      "b15          0.039730   0.054114   0.734 0.462833    \n",
      "b16          0.024872   0.048961   0.508 0.611453    \n",
      "b17          0.047044   0.031473   1.495 0.134981    \n",
      "b18         -0.181164   0.055324  -3.275 0.001058 ** \n",
      "b19          3.065597   0.061419  49.913  < 2e-16 ***\n",
      "b20          0.577994   0.064871   8.910  < 2e-16 ***\n",
      "b21          0.376752   0.054545   6.907 4.94e-12 ***\n",
      "b22          0.691836   0.052549  13.165  < 2e-16 ***\n",
      "b23          0.235567   0.056789   4.148 3.35e-05 ***\n",
      "b24         -0.412315   0.057571  -7.162 7.96e-13 ***\n",
      "b25          0.000442   0.025877   0.017 0.986373    \n",
      "b26          0.062484   0.034698   1.801 0.071730 .  \n",
      "b27         -0.004756   0.037864  -0.126 0.900047    \n",
      "b28         -0.026227   0.026911  -0.975 0.329768    \n",
      "b29          0.073709   0.042738   1.725 0.084589 .  \n",
      "b30         -0.090344   0.057119  -1.582 0.113724    \n",
      "b31          0.466720   0.060100   7.766 8.12e-15 ***\n",
      "b32         -0.052263   0.032020  -1.632 0.102635    \n",
      "\n",
      "Phi coefficients (precision model with identity link):\n",
      "      Estimate Std. Error z value Pr(>|z|)    \n",
      "(phi)  38.0050     0.6181   61.49   <2e-16 ***\n",
      "---\n",
      "Signif. codes:  0 '***' 0.001 '**' 0.01 '*' 0.05 '.' 0.1 ' ' 1 \n",
      "\n",
      "Type of estimator: ML (maximum likelihood)\n",
      "Log-likelihood: 1.122e+04 on 35 Df\n",
      "Pseudo R-squared: 0.8847\n",
      "Number of iterations: 107 (BFGS) + 3 (Fisher scoring) \n",
      "\n",
      "[ 0.06302084]\n"
     ]
    }
   ],
   "source": [
    "# model doesn't like sample b33\n",
    "importr('betareg')\n",
    "rcmd = 'betareg(test_rdf$filled ~ ' + ' + '.join(train_chromosomes[:-1]) + \\\n",
    "    ', data=train_rdf, subset=train_ix' + \\\n",
    "    ', start=list(mean=head(linear_coef, -1), precision=1))'\n",
    "ro.r('fit <- ' + rcmd)\n",
    "print(ro.r('summary(fit)'))\n",
    "rpred = 'predict(fit, train_rdf[test_ix,])'\n",
    "rexact = 'test_rdf[test_ix,]$filled'\n",
    "print(ro.r('sqrt(mean((' + rpred + '-' + rexact + ') ^ 2))'))"
   ]
  }
 ],
 "metadata": {
  "kernelspec": {
   "display_name": "Python 3",
   "language": "python",
   "name": "python3"
  },
  "language_info": {
   "codemirror_mode": {
    "name": "ipython",
    "version": 3
   },
   "file_extension": ".py",
   "mimetype": "text/x-python",
   "name": "python",
   "nbconvert_exporter": "python",
   "pygments_lexer": "ipython3",
   "version": "3.4.3"
  }
 },
 "nbformat": 4,
 "nbformat_minor": 0
}
