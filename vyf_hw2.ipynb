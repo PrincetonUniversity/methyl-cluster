{
 "cells": [
  {
   "cell_type": "code",
   "execution_count": 41,
   "metadata": {
    "collapsed": false
   },
   "outputs": [],
   "source": [
    "# Imports\n",
    "\n",
    "import numpy as np\n",
    "import pandas as pd\n",
    "import os, os.path\n",
    "from itertools import *\n",
    "%matplotlib inline\n",
    "import matplotlib.pyplot as plt\n",
    "import math\n",
    "import random\n",
    "import scipy.stats\n",
    "import sys\n",
    "from joblib import Parallel, delayed\n",
    "import multiprocessing\n",
    "nproc = max(1, multiprocessing.cpu_count() - 1)\n",
    "from functools import partial\n",
    "\n",
    "from intervaltree import IntervalTree, Interval\n",
    "from sklearn import linear_model\n",
    "from sklearn import ensemble\n",
    "from scipy.spatial import distance\n",
    "from sklearn.metrics import r2_score, mean_squared_error\n",
    "from sklearn.grid_search import GridSearchCV\n",
    "\n",
    "# Warnings\n",
    "\n",
    "import warnings\n",
    "warnings.filterwarnings('ignore')\n",
    "\n",
    "# Idempotent data retrieval script\n",
    "\n",
    "chromosomes = [1, 2, 6, 7, 11]\n",
    "def chromosome_files(n):\n",
    "    base = 'intersected_final_chr'\n",
    "    spec = '_cutoff_20_'\n",
    "    suffixes = ['train.bed', 'sample_partial.bed', 'sample_full.bed']\n",
    "    return [base + str(n) + spec + suffix for suffix in suffixes]\n",
    "all_chromosomes = set(chain.from_iterable(chromosome_files(n) for n in chromosomes))\n",
    "\n",
    "if 'methylation_imputation' not in [x for x in os.listdir('.') if os.path.isdir(x)]:\n",
    "    raise Exception('Missing assignment repository in cwd')\n",
    "\n",
    "if not os.path.exists('data'):\n",
    "    os.mkdir('data')\n",
    "\n",
    "def have_chromosomes(): return all_chromosomes.issubset(set(os.listdir('data')))\n",
    "if not have_chromosomes():\n",
    "    ! cp methylation_imputation/data/*.bed.gz data/\n",
    "    ! gunzip data/*.gz\n",
    "    if not have_chromosomes():\n",
    "        raise Exception('Error unpacking chromosomes data')\n",
    "\n",
    "encode_file = 'wgEncodeRegTfbsClusteredV3.bed'\n",
    "annotations_files = {encode_file}\n",
    "def have_annotations(): return annotations_files.issubset(set(os.listdir('data')))\n",
    "if not have_annotations():\n",
    "    ! cp methylation_imputation/annotations/*.bed.gz data/\n",
    "    ! gunzip data/*.gz\n",
    "    if not have_annotations():\n",
    "        raise Exception('Error unpacking ENCODE data')\n",
    "\n",
    "def read_tsv(name): return pd.read_csv(name, sep='\\t', header=None)\n",
    "train_chr1 = read_tsv('data/' + chromosome_files(1)[0])\n",
    "test_chr1_partial = read_tsv('data/' + chromosome_files(1)[1])\n",
    "test_chr1_full = read_tsv('data/' + chromosome_files(1)[2])\n",
    "\n",
    "unknown_chr1_ix = np.where((test_chr1_partial[5] == 0) & ~np.isnan(test_chr1_full[4]))[0]\n",
    "known_chr1_ix = np.where((test_chr1_partial[5] == 1) & ~np.isnan(test_chr1_partial[4]))[0]\n",
    "\n",
    "test_ix = unknown_chr1_ix\n",
    "train_ix = known_chr1_ix\n",
    "\n",
    "train_df = train_chr1\n",
    "train_tissues = ['b' + str(x) for x in range(train_chr1.shape[1] - 4)]\n",
    "train_df.columns = ['chromosome', 'start', 'end', 'strand'] + train_tissues\n",
    "\n",
    "test_df = test_chr1_full\n",
    "test_df.columns = ['chromosome', 'start', 'end', 'strand', 'filled', 'assayed']\n",
    "test_df['missing'] = test_chr1_partial[4]\n",
    "\n",
    "train_df['strand'] = train_df['strand'] == '+'\n",
    "test_df['strand'] = test_df['strand'] == '+'"
   ]
  },
  {
   "cell_type": "code",
   "execution_count": 2,
   "metadata": {
    "collapsed": true
   },
   "outputs": [],
   "source": [
    "# Add CRE info\n",
    "rawe = read_tsv('data/' + encode_file)\n",
    "rawe.drop([4, 5, 6, 7], axis=1, inplace=True)\n",
    "rawe.columns = ['chromosome', 'start', 'end', 'tf']\n",
    "tfs = set(rawe['tf'])\n",
    "\n",
    "# This may take a minute\n",
    "iv_chr1 = IntervalTree((Interval(*x[1]) for x in\n",
    "                       rawe[rawe['chromosome'] == 'chr1'][['start', 'end', 'tf']].iterrows()))\n",
    "def inside_tf(iv, row):\n",
    "    overlap = [x.data for x in iv[row['start']:row['end']]]\n",
    "    return pd.Series({tf: (tf in overlap) for tf in tfs})\n",
    "# This may take 3 minutes\n",
    "train_df = train_df.merge(train_df[['start', 'end']].apply(partial(inside_tf, iv_chr1), axis=1), copy=False,\n",
    "                          left_index=True, right_index=True)\n",
    "\n",
    "import gc\n",
    "iv_chr1 = rawe = None\n",
    "gc.collect()\n",
    "pass"
   ]
  },
  {
   "cell_type": "code",
   "execution_count": 3,
   "metadata": {
    "collapsed": false
   },
   "outputs": [
    {
     "data": {
      "text/plain": [
       "413436"
      ]
     },
     "execution_count": 3,
     "metadata": {},
     "output_type": "execute_result"
    }
   ],
   "source": [
    "# Double check that there actually are transcription factors in there:\n",
    "train_df[list(tfs)].sum().sum()"
   ]
  },
  {
   "cell_type": "code",
   "execution_count": 4,
   "metadata": {
    "collapsed": false
   },
   "outputs": [
    {
     "name": "stdout",
     "output_type": "stream",
     "text": [
      "Num train tissues 34\n",
      "Num trans factors 161\n"
     ]
    },
    {
     "data": {
      "text/html": [
       "<div>\n",
       "<table border=\"1\" class=\"dataframe\">\n",
       "  <thead>\n",
       "    <tr style=\"text-align: right;\">\n",
       "      <th></th>\n",
       "      <th>chromosome</th>\n",
       "      <th>start</th>\n",
       "      <th>end</th>\n",
       "      <th>strand</th>\n",
       "      <th>b0</th>\n",
       "      <th>b1</th>\n",
       "      <th>b2</th>\n",
       "      <th>b3</th>\n",
       "      <th>b4</th>\n",
       "      <th>b5</th>\n",
       "      <th>...</th>\n",
       "      <th>YY1</th>\n",
       "      <th>ZBTB33</th>\n",
       "      <th>ZBTB7A</th>\n",
       "      <th>ZEB1</th>\n",
       "      <th>ZKSCAN1</th>\n",
       "      <th>ZNF143</th>\n",
       "      <th>ZNF217</th>\n",
       "      <th>ZNF263</th>\n",
       "      <th>ZNF274</th>\n",
       "      <th>ZZZ3</th>\n",
       "    </tr>\n",
       "  </thead>\n",
       "  <tbody>\n",
       "    <tr>\n",
       "      <th>267</th>\n",
       "      <td>chr1</td>\n",
       "      <td>121511</td>\n",
       "      <td>121513</td>\n",
       "      <td>True</td>\n",
       "      <td>0.714286</td>\n",
       "      <td>0.739130</td>\n",
       "      <td>0.800000</td>\n",
       "      <td>0.782609</td>\n",
       "      <td>0.794872</td>\n",
       "      <td>0.750000</td>\n",
       "      <td>...</td>\n",
       "      <td>False</td>\n",
       "      <td>False</td>\n",
       "      <td>False</td>\n",
       "      <td>False</td>\n",
       "      <td>False</td>\n",
       "      <td>False</td>\n",
       "      <td>False</td>\n",
       "      <td>False</td>\n",
       "      <td>False</td>\n",
       "      <td>False</td>\n",
       "    </tr>\n",
       "    <tr>\n",
       "      <th>268</th>\n",
       "      <td>chr1</td>\n",
       "      <td>121516</td>\n",
       "      <td>121518</td>\n",
       "      <td>True</td>\n",
       "      <td>0.857143</td>\n",
       "      <td>0.800000</td>\n",
       "      <td>0.833333</td>\n",
       "      <td>0.913043</td>\n",
       "      <td>0.909091</td>\n",
       "      <td>0.806452</td>\n",
       "      <td>...</td>\n",
       "      <td>False</td>\n",
       "      <td>False</td>\n",
       "      <td>False</td>\n",
       "      <td>False</td>\n",
       "      <td>False</td>\n",
       "      <td>False</td>\n",
       "      <td>False</td>\n",
       "      <td>False</td>\n",
       "      <td>False</td>\n",
       "      <td>False</td>\n",
       "    </tr>\n",
       "    <tr>\n",
       "      <th>269</th>\n",
       "      <td>chr1</td>\n",
       "      <td>122736</td>\n",
       "      <td>122738</td>\n",
       "      <td>False</td>\n",
       "      <td>0.545455</td>\n",
       "      <td>0.384615</td>\n",
       "      <td>0.472727</td>\n",
       "      <td>NaN</td>\n",
       "      <td>0.436364</td>\n",
       "      <td>0.580000</td>\n",
       "      <td>...</td>\n",
       "      <td>False</td>\n",
       "      <td>False</td>\n",
       "      <td>False</td>\n",
       "      <td>False</td>\n",
       "      <td>False</td>\n",
       "      <td>False</td>\n",
       "      <td>False</td>\n",
       "      <td>False</td>\n",
       "      <td>False</td>\n",
       "      <td>False</td>\n",
       "    </tr>\n",
       "    <tr>\n",
       "      <th>270</th>\n",
       "      <td>chr1</td>\n",
       "      <td>122869</td>\n",
       "      <td>122871</td>\n",
       "      <td>False</td>\n",
       "      <td>0.837838</td>\n",
       "      <td>0.814815</td>\n",
       "      <td>0.725000</td>\n",
       "      <td>0.807692</td>\n",
       "      <td>0.710526</td>\n",
       "      <td>0.565217</td>\n",
       "      <td>...</td>\n",
       "      <td>False</td>\n",
       "      <td>False</td>\n",
       "      <td>False</td>\n",
       "      <td>False</td>\n",
       "      <td>False</td>\n",
       "      <td>False</td>\n",
       "      <td>False</td>\n",
       "      <td>False</td>\n",
       "      <td>False</td>\n",
       "      <td>False</td>\n",
       "    </tr>\n",
       "    <tr>\n",
       "      <th>271</th>\n",
       "      <td>chr1</td>\n",
       "      <td>122884</td>\n",
       "      <td>122886</td>\n",
       "      <td>False</td>\n",
       "      <td>0.842105</td>\n",
       "      <td>0.821429</td>\n",
       "      <td>0.720930</td>\n",
       "      <td>0.800000</td>\n",
       "      <td>0.795455</td>\n",
       "      <td>0.478261</td>\n",
       "      <td>...</td>\n",
       "      <td>False</td>\n",
       "      <td>False</td>\n",
       "      <td>False</td>\n",
       "      <td>False</td>\n",
       "      <td>False</td>\n",
       "      <td>False</td>\n",
       "      <td>False</td>\n",
       "      <td>False</td>\n",
       "      <td>False</td>\n",
       "      <td>False</td>\n",
       "    </tr>\n",
       "    <tr>\n",
       "      <th>272</th>\n",
       "      <td>chr1</td>\n",
       "      <td>127749</td>\n",
       "      <td>127751</td>\n",
       "      <td>True</td>\n",
       "      <td>0.633333</td>\n",
       "      <td>0.473684</td>\n",
       "      <td>0.703704</td>\n",
       "      <td>0.611111</td>\n",
       "      <td>0.827586</td>\n",
       "      <td>0.666667</td>\n",
       "      <td>...</td>\n",
       "      <td>False</td>\n",
       "      <td>False</td>\n",
       "      <td>False</td>\n",
       "      <td>False</td>\n",
       "      <td>False</td>\n",
       "      <td>False</td>\n",
       "      <td>False</td>\n",
       "      <td>False</td>\n",
       "      <td>False</td>\n",
       "      <td>False</td>\n",
       "    </tr>\n",
       "  </tbody>\n",
       "</table>\n",
       "<p>6 rows × 199 columns</p>\n",
       "</div>"
      ],
      "text/plain": [
       "    chromosome   start     end strand        b0        b1        b2        b3  \\\n",
       "267       chr1  121511  121513   True  0.714286  0.739130  0.800000  0.782609   \n",
       "268       chr1  121516  121518   True  0.857143  0.800000  0.833333  0.913043   \n",
       "269       chr1  122736  122738  False  0.545455  0.384615  0.472727       NaN   \n",
       "270       chr1  122869  122871  False  0.837838  0.814815  0.725000  0.807692   \n",
       "271       chr1  122884  122886  False  0.842105  0.821429  0.720930  0.800000   \n",
       "272       chr1  127749  127751   True  0.633333  0.473684  0.703704  0.611111   \n",
       "\n",
       "           b4        b5  ...      YY1  ZBTB33  ZBTB7A   ZEB1  ZKSCAN1  ZNF143  \\\n",
       "267  0.794872  0.750000  ...    False   False   False  False    False   False   \n",
       "268  0.909091  0.806452  ...    False   False   False  False    False   False   \n",
       "269  0.436364  0.580000  ...    False   False   False  False    False   False   \n",
       "270  0.710526  0.565217  ...    False   False   False  False    False   False   \n",
       "271  0.795455  0.478261  ...    False   False   False  False    False   False   \n",
       "272  0.827586  0.666667  ...    False   False   False  False    False   False   \n",
       "\n",
       "     ZNF217  ZNF263  ZNF274   ZZZ3  \n",
       "267   False   False   False  False  \n",
       "268   False   False   False  False  \n",
       "269   False   False   False  False  \n",
       "270   False   False   False  False  \n",
       "271   False   False   False  False  \n",
       "272   False   False   False  False  \n",
       "\n",
       "[6 rows x 199 columns]"
      ]
     },
     "execution_count": 4,
     "metadata": {},
     "output_type": "execute_result"
    }
   ],
   "source": [
    "print('Num train tissues', len(train_tissues))\n",
    "print('Num trans factors', len(tfs))\n",
    "train_df.loc[range(267, 273)]"
   ]
  },
  {
   "cell_type": "code",
   "execution_count": 5,
   "metadata": {
    "collapsed": false
   },
   "outputs": [
    {
     "name": "stdout",
     "output_type": "stream",
     "text": [
      "Chromosome 1\n",
      "Total samples 379551\n",
      "Site lengths {2: 379551}\n",
      "Strand types {False: 1464, True: 378087}\n",
      "Known (test) sample site counts 7523\n",
      "Unknown (test) sample site counts 368411\n",
      "NaN ratio in all train samples 0.0849950103582\n",
      "NaN ratio in test 0.980179211753\n"
     ]
    }
   ],
   "source": [
    "assert len(train_df) == len(test_df)\n",
    "def count_unique(col):\n",
    "    return {x:sum(col == x) for x in set(col)}\n",
    "\n",
    "print('Chromosome 1')\n",
    "print('Total samples', len(train_df))\n",
    "print('Site lengths', count_unique(train_df['end'] - train_chr1['start']))\n",
    "print('Strand types', count_unique(train_df['strand']))\n",
    "print('Known (test) sample site counts', len(known_chr1_ix))\n",
    "print('Unknown (test) sample site counts', len(unknown_chr1_ix))\n",
    "print('NaN ratio in all train samples',\n",
    "      sum(sum(np.isnan(train_df[train_tissues].values))) / (len(train_df) * len(train_tissues)))\n",
    "print('NaN ratio in test', sum(np.isnan(test_df['missing'])) / len(test_df))\n",
    "assert sum(test_df['strand'] != train_df['strand']) == 0"
   ]
  },
  {
   "cell_type": "code",
   "execution_count": 6,
   "metadata": {
    "collapsed": false
   },
   "outputs": [
    {
     "data": {
      "image/png": "[encoded data removed]",
      "text/plain": [
       "<matplotlib.figure.Figure at 0x7f2fc4152750>"
      ]
     },
     "metadata": {},
     "output_type": "display_data"
    },
    {
     "name": "stdout",
     "output_type": "stream",
     "text": [
      "avg length between known sites 50.2903483116\n",
      "sd of number of bp between sites 86.9614546017\n"
     ]
    },
    {
     "data": {
      "image/png": "[encoded data removed]",
      "text/plain": [
       "<matplotlib.figure.Figure at 0x7f2f980b3bd0>"
      ]
     },
     "metadata": {},
     "output_type": "display_data"
    }
   ],
   "source": [
    "# Make sure our samples are pretty uniform from the genomic range\n",
    "def ticks(n): return np.arange(0.0, n) / n\n",
    "plt.plot(ticks(len(known_chr1_ix)), known_chr1_ix / len(train_df), '.')\n",
    "plt.plot([0, 1])\n",
    "plt.axes().set_aspect('equal')\n",
    "plt.xlabel('CpG sample')\n",
    "plt.ylabel('entire chromosome')\n",
    "plt.title('QQ-plot of site positions')\n",
    "plt.grid(True)\n",
    "plt.show()\n",
    "\n",
    "diffs = np.diff(known_chr1_ix)\n",
    "print('avg length between known sites', np.mean(diffs))\n",
    "print('sd of number of bp between sites', np.std(diffs))\n",
    "plt.plot(np.diff(known_chr1_ix))\n",
    "plt.xlabel('length between known sites')\n",
    "plt.ylabel('frequency')\n",
    "plt.title('histogram of adjacent site information')\n",
    "plt.grid(True)\n",
    "plt.show()"
   ]
  },
  {
   "cell_type": "code",
   "execution_count": 7,
   "metadata": {
    "collapsed": false
   },
   "outputs": [
    {
     "data": {
      "image/png": "[encoded data removed]",
      "text/plain": [
       "<matplotlib.figure.Figure at 0x7f2f980d2e50>"
      ]
     },
     "metadata": {},
     "output_type": "display_data"
    }
   ],
   "source": [
    "# Observe nearby site correlations\n",
    "def drop_nan_corr(x, y):\n",
    "    ix = np.where(~np.isnan(y) & ~np.isnan(x))\n",
    "    return scipy.stats.pearsonr(x[ix], y[ix])[0]\n",
    "# Choose a random site, check neighbors within vicinity of 'reach'\n",
    "reach = list(range(30))\n",
    "reach = [-x for x in reversed(reach)] + reach[1:]\n",
    "def sample_corr(reach):\n",
    "    site = random.randint(max(reach), len(train_chr1) - max(reach) - 1)\n",
    "    y = np.array(train_df.iloc[site][train_tissues[:-1]]\n",
    "                 .values).astype(np.float64)\n",
    "    nbrs = [site + i for i in reach]\n",
    "    xs = np.array(train_df.iloc[nbrs][train_tissues[:-1]]\n",
    "                  .values).astype(np.float64)\n",
    "    return np.array([drop_nan_corr(x, y) for x in xs])\n",
    "\n",
    "sample = 1000\n",
    "test = np.array([sample_corr(reach) for i in range(sample)])\n",
    "plt.errorbar(reach, np.mean(test, axis=0), fmt='-o', yerr=np.std(test, axis=0))\n",
    "plt.title('within tissue neighbor correlation (n={})'.format(sample))\n",
    "plt.ylabel('across tissue samples')\n",
    "plt.xlabel('site displacement')\n",
    "plt.show()"
   ]
  },
  {
   "cell_type": "code",
   "execution_count": 8,
   "metadata": {
    "collapsed": false
   },
   "outputs": [
    {
     "data": {
      "image/png": "[encoded data removed]",
      "text/plain": [
       "<matplotlib.figure.Figure at 0x7f2f8e621890>"
      ]
     },
     "metadata": {},
     "output_type": "display_data"
    },
    {
     "name": "stdout",
     "output_type": "stream",
     "text": [
      "orig : rolling mean stddevs [4.8264430391409112, 4.6245001454552384, 11.339790875795508]\n"
     ]
    }
   ],
   "source": [
    "# Perhaps there are obvious sequence trends?\n",
    "def local_impute(data):\n",
    "    #http://stackoverflow.com/questions/9537543/replace-nans-in-numpy-array-with-closest-non-nan-value\n",
    "    mask = np.isnan(data)\n",
    "    data[mask] = np.interp(np.flatnonzero(mask), np.flatnonzero(~mask), data[~mask])\n",
    "    return data\n",
    "\n",
    "plt.figure(figsize=(10, 2))\n",
    "ratios = []\n",
    "plt.title('rolling mean (n = 1000) methylation levels in train tissues 0, 1, 33')\n",
    "plt.xlabel('genomic position')\n",
    "plt.ylabel('mean methyl. prop.')\n",
    "\n",
    "x = local_impute(np.copy(train_df['b0']))\n",
    "rolled = pd.Series(x).rolling(window=1000, win_type='boxcar').mean()\n",
    "ratios.append(np.std(x) / np.std(rolled))\n",
    "l0, = plt.plot(rolled, label='0')\n",
    "\n",
    "x = local_impute(np.copy(train_df['b1']))\n",
    "rolled = pd.Series(x).rolling(window=1000, win_type='boxcar').mean()\n",
    "ratios.append(np.std(x) / np.std(rolled))\n",
    "l1, = plt.plot(rolled, label='1')\n",
    "\n",
    "x = local_impute(np.copy(train_df['b33']))\n",
    "rolled = pd.Series(x).rolling(window=1000, win_type='boxcar').mean()\n",
    "ratios.append(np.std(x) / np.std(rolled))\n",
    "l33, = plt.plot(rolled, label='33')\n",
    "\n",
    "plt.legend(handles=[l0, l1, l33])\n",
    "plt.legend(bbox_to_anchor=(1.05, 1), loc=2, borderaxespad=0.)\n",
    "plt.show()\n",
    "print('orig : rolling mean stddevs', ratios)"
   ]
  },
  {
   "cell_type": "code",
   "execution_count": 9,
   "metadata": {
    "collapsed": false
   },
   "outputs": [
    {
     "name": "stdout",
     "output_type": "stream",
     "text": [
      "Training tissue sparsities [0.0, 0.0, 0.0, 0.0, 0.0, 0.0, 0.0, 0.0, 0.0, 0.0, 0.0, 0.0, 0.0, 0.0, 0.0, 0.0, 0.0, 0.0, 0.0, 0.0, 0.0, 0.0, 0.0, 0.0, 0.0, 0.0, 0.0, 0.0, 0.0, 0.0, 0.0, 0.0, 0.0, 0.97994999354500445]\n",
      "Sample sparsity 0.0\n"
     ]
    }
   ],
   "source": [
    "# Sparsity\n",
    "print('Training tissue sparsities', [(train_df[i] <= 0.01).sum() / len(train_df) for i in train_tissues])\n",
    "print('Sample sparsity', (test_df['filled'][train_ix] <= 0.01).sum() / len(train_ix))"
   ]
  },
  {
   "cell_type": "code",
   "execution_count": 10,
   "metadata": {
    "collapsed": false
   },
   "outputs": [
    {
     "name": "stdout",
     "output_type": "stream",
     "text": [
      "nans in mean-imputed 0\n",
      "nans in interpolated 0\n"
     ]
    }
   ],
   "source": [
    "# Do mean imputation on our training data.\n",
    "def mean_impute(data):\n",
    "    mask = np.isnan(data)\n",
    "    data[mask] = float(data.mean()) # just = m messes with serialization\n",
    "    return data\n",
    "train_df_imp = train_df\n",
    "train_df_int = train_df\n",
    "for i in train_tissues:\n",
    "    train_df_imp[i] = mean_impute(train_df[i].copy())\n",
    "    train_df_int[i] = local_impute(train_df[i].copy())\n",
    "print('nans in mean-imputed', np.isnan(train_df_imp[train_tissues]).sum().sum())\n",
    "print('nans in interpolated', np.isnan(train_df_int[train_tissues]).sum().sum())"
   ]
  },
  {
   "cell_type": "code",
   "execution_count": 11,
   "metadata": {
    "collapsed": false
   },
   "outputs": [
    {
     "data": {
      "image/png": "[encoded data removed]",
      "text/plain": [
       "<matplotlib.figure.Figure at 0x7f2fc415b050>"
      ]
     },
     "metadata": {},
     "output_type": "display_data"
    },
    {
     "name": "stdout",
     "output_type": "stream",
     "text": [
      "closest to test sample based on training data: 19\n"
     ]
    }
   ],
   "source": [
    "corr_mat = [[scipy.stats.pearsonr(train_df_imp\n",
    "                                  [a], train_df_imp[b])[0]\n",
    "             for a in train_tissues] for b in train_tissues]\n",
    "plt.imshow(corr_mat, interpolation='nearest', cmap=plt.cm.ocean)\n",
    "plt.title('chromosome correlation matrix')\n",
    "plt.colorbar()\n",
    "plt.tight_layout()\n",
    "plt.show()\n",
    "\n",
    "def pandas_rmse(a, b):\n",
    "    # http://stackoverflow.com/questions/27783494/root-mean-square-error-of-two-pandas-series\n",
    "    return math.sqrt(a.sub(b).pow(2).mean())\n",
    "\n",
    "l = [pandas_rmse(train_df_imp[t].iloc[train_ix], test_df['filled'][train_ix]) for t in train_tissues]\n",
    "print('closest to test sample based on training data:', l.index(min(l)))"
   ]
  },
  {
   "cell_type": "code",
   "execution_count": 40,
   "metadata": {
    "collapsed": false
   },
   "outputs": [],
   "source": [
    "# We'll only test on the well-behaved chromosomes similar to our\n",
    "# test chromosome according to the cluster above, testable:\n",
    "testable_tissues = ['b' + str(i) for i in range(19, 25)]\n",
    "closest = 'b19'\n",
    "# this is just an eyeball selection, but should prove good enough to\n",
    "# offer decent generalization via cross validation."
   ]
  },
  {
   "cell_type": "code",
   "execution_count": 13,
   "metadata": {
    "collapsed": false
   },
   "outputs": [],
   "source": [
    "# Define some evaluation functions\n",
    "\n",
    "def denanify(a, b):\n",
    "    mask = ~np.isnan(a) & ~np.isnan(b)\n",
    "    assert mask.sum() > 0\n",
    "    return a[mask], b[mask]\n",
    "\n",
    "def correct_half(a, b):\n",
    "    methylated_guess = a >= 0.5\n",
    "    methylated_exact = b >= 0.5\n",
    "    return (methylated_guess == methylated_exact).sum() / len(methylated_guess)\n",
    "\n",
    "# Function f should return its estimate for the value in 'test_tissue'\n",
    "# at each test_ix location. It gets its own copy of test_tissue, but\n",
    "# train_cols is shared.\n",
    "def eval_fold(f, train_cols, test_tissue, train_tissue_names):\n",
    "    nanned = test_tissue.copy()\n",
    "    nanned[test_ix] = np.nan\n",
    "    guess = f(train_cols, nanned, train_tissue_names)\n",
    "    assert sum(np.isnan(guess)) == 0\n",
    "    # test_ix doesn't have nans in the test_df['filled'] col, but\n",
    "    # within train_df there might be nans here.\n",
    "    exact = test_tissue[test_ix]\n",
    "    if not isinstance(guess, pd.Series):\n",
    "        guess = pd.Series(guess, index=exact.index)\n",
    "    assert len(guess) == len(exact)\n",
    "    guess, exact = denanify(guess, exact)\n",
    "    return np.array([pandas_rmse(guess, exact), correct_half(guess, exact),\n",
    "                     r2_score(exact, guess)])\n",
    "\n",
    "# Excludes the sparse chromosome from testing.\n",
    "def cv_folds(f, df=train_df, threading='multiprocessing',\n",
    "             additional_cols=[], test_tissues=testable_tissues):\n",
    "    rmse_acc = np.zeros(3)\n",
    "    ctr = 0\n",
    "    arguments = []\n",
    "    for t in test_tissues:\n",
    "        train_cols = train_tissues[:]\n",
    "        train_cols.remove(t)\n",
    "        arguments.append((f, df[train_cols + additional_cols], df[t], train_cols))\n",
    "    folds = [eval_fold(*i) for i in arguments] if not threading else \\\n",
    "            Parallel(n_jobs=min(nproc, len(arguments)), backend=threading) \\\n",
    "                (delayed(eval_fold)(*i) for i in arguments)\n",
    "    return sum(folds) / len(folds)\n",
    "\n",
    "def perfstr(rmse_acc):\n",
    "    return 'rmse {} methylated acc {} R^2 {}'.format(*rmse_acc)"
   ]
  },
  {
   "cell_type": "code",
   "execution_count": 14,
   "metadata": {
    "collapsed": false
   },
   "outputs": [
    {
     "name": "stdout",
     "output_type": "stream",
     "text": [
      "interpolation rmse 0.20477740780970047 methylated acc 0.8897997073920161 R^2 -0.6131129817291857\n",
      "same tissue mean rmse 0.16247889234653728 methylated acc 0.9376303458184835 R^2 -0.015392692439529601\n"
     ]
    }
   ],
   "source": [
    "# No trends.\n",
    "# Let's try imputing from but clearly we can impute from local neighbor data.\n",
    "# Try using no information for our test chromosome as a baseline.\n",
    "\n",
    "# Two simple approaches, with no information from other samples\n",
    "\n",
    "def interpolation(cols, partial, train_tissue_names):\n",
    "    return local_impute(partial).iloc[test_ix]\n",
    "print('interpolation', perfstr(cv_folds(interpolation)))\n",
    "\n",
    "def same_sample_mean(cols, partial, train_tissue_names):\n",
    "    return mean_impute(partial).iloc[test_ix]\n",
    "print('same tissue mean', perfstr(cv_folds(same_sample_mean)))"
   ]
  },
  {
   "cell_type": "code",
   "execution_count": 15,
   "metadata": {
    "collapsed": false
   },
   "outputs": [
    {
     "name": "stdout",
     "output_type": "stream",
     "text": [
      "diff tissue mean rmse 0.1318694424931256 methylated acc 0.9536961889483936 R^2 0.3256145169853153\n"
     ]
    }
   ],
   "source": [
    "# As a dual approach, we can try using only information from the remaining tissues\n",
    "# For example, we might try to take a mean of methylation values along the same site\n",
    "def diff_sample_mean(cols, partial, train_tissue_names):\n",
    "    return cols[train_tissue_names].iloc[test_ix].mean(axis=1)\n",
    "print('diff tissue mean', perfstr(cv_folds(diff_sample_mean)))"
   ]
  },
  {
   "cell_type": "code",
   "execution_count": 16,
   "metadata": {
    "collapsed": false
   },
   "outputs": [
    {
     "name": "stdout",
     "output_type": "stream",
     "text": [
      "1NN rmse 0.09120396089592973 methylated acc 0.968845483260091 R^2 0.6777635739603453\n"
     ]
    }
   ],
   "source": [
    "def nearest_neighbor(cols, partial, train_tissue_names):\n",
    "    nbr = min((pandas_rmse(cols[t].iloc[train_ix], partial.iloc[train_ix]), t)\n",
    "              for t in train_tissue_names)[1]\n",
    "    return cols[nbr].iloc[test_ix]\n",
    "print('1NN', perfstr(cv_folds(nearest_neighbor, df=train_df_imp)))"
   ]
  },
  {
   "cell_type": "code",
   "execution_count": 18,
   "metadata": {
    "collapsed": false
   },
   "outputs": [
    {
     "name": "stdout",
     "output_type": "stream",
     "text": [
      "only tissue data\n",
      "\tOLS              rmse 0.069186 methyl acc 0.976359 R^2 0.813765\n",
      "\tRidge            rmse 0.069097 methyl acc 0.976369 R^2 0.814253\n",
      "\tLasso            rmse 0.069076 methyl acc 0.976358 R^2 0.814326\n",
      "\tRFR              rmse 0.069235 methyl acc 0.975851 R^2 0.813399\n",
      "\tElasticNet       rmse 0.069056 methyl acc 0.976347 R^2 0.814434\n",
      "\tBEST ElasticNet  (R^2 = 0.8144342091337995)\n",
      "only metadata\n",
      "\tOLS              rmse 42472398862.237488 methyl acc 0.937207 R^2 -75892152557656353013760.000000\n",
      "\tRidge            rmse 0.154997 methyl acc 0.938248 R^2 0.075668\n",
      "\tLasso            rmse 0.154597 methyl acc 0.938605 R^2 0.080309\n",
      "\tRFR              rmse 0.156734 methyl acc 0.936109 R^2 0.054276\n",
      "\tElasticNet       rmse 0.154603 methyl acc 0.938572 R^2 0.080293\n",
      "\tBEST Lasso  (R^2 = 0.08030944044610151)\n",
      "only neighbors\n",
      "\tOLS              rmse 0.120703 methyl acc 0.953302 R^2 0.437951\n",
      "\tRidge            rmse 0.120465 methyl acc 0.953381 R^2 0.440225\n",
      "\tLasso            rmse 0.120336 methyl acc 0.953469 R^2 0.441388\n",
      "\tRFR              rmse 0.122624 methyl acc 0.952293 R^2 0.419997\n",
      "\tElasticNet       rmse 0.120148 methyl acc 0.953538 R^2 0.443131\n",
      "\tBEST ElasticNet  (R^2 = 0.4431305281559401)\n"
     ]
    }
   ],
   "source": [
    "# Use the well-formedness of the other-tissue data to train a basic lm\n",
    "def sklearn_model(lm, cols, partial, train_tissue_names):\n",
    "    lm.fit(cols.iloc[train_ix], partial.iloc[train_ix])\n",
    "    return lm.predict(cols.iloc[test_ix])\n",
    "\n",
    "def log_range(lo, hi): return [10 ** i for i in range(lo, hi)]\n",
    "\n",
    "def sklearn_model_only_metadata(lm, cols, partial, train_tissue_names):\n",
    "    f = list(set(cols.columns) - set(train_tissue_names))\n",
    "    lm.fit(cols[f].iloc[train_ix], partial.iloc[train_ix])\n",
    "    return lm.predict(cols[f].iloc[test_ix])\n",
    "\n",
    "lmmodels = [\n",
    "    ('OLS', linear_model.LinearRegression()),\n",
    "    ('Ridge', linear_model.RidgeCV(alphas=log_range(-1, 4), cv=8)),\n",
    "    ('Lasso', linear_model.LassoCV(alphas=log_range(-6,-1), cv=8)),\n",
    "    ('RFR', ensemble.RandomForestRegressor(n_estimators=100)),\n",
    "    ('ElasticNet', linear_model.ElasticNetCV(l1_ratio=np.arange(.1, 1, .1), cv=8)),\n",
    "    #('ARDRegression', linear_model.ARDRegression())\n",
    "]\n",
    "\n",
    "df = train_df_int\n",
    "#df = train_df_imp\n",
    "\n",
    "def run_models(cv_fun):\n",
    "    best = None, [None, None, -np.inf], None\n",
    "    for name, model in lmmodels:\n",
    "        perf = cv_fun(model)\n",
    "        if perf[2] > best[1][2]: best = name, perf\n",
    "        print('\\t{: <16} rmse {:04f} methyl acc {:04f} R^2 {:04f}'.format(name, *perf))\n",
    "    print('\\tBEST', best[0], ' (R^2 = {})'.format(best[1][2]))\n",
    "\n",
    "print('only tissue data')\n",
    "run_models(lambda model: cv_folds(partial(sklearn_model, model), df=df))\n",
    "\n",
    "print('only metadata')\n",
    "metadata_names = list(tfs) + ['strand']\n",
    "run_models(lambda model: cv_folds(partial(sklearn_model_only_metadata, model),\n",
    "                                  df=df, additional_cols=metadata_names))\n",
    "\n",
    "for t in train_tissues:\n",
    "    df[t + 'prev'] = df[t].shift(-1)\n",
    "    df[t + 'prev'].iloc[len(df)-1] = df[t][len(df)-1]\n",
    "    df[t + 'next'] = df[t].shift(1)\n",
    "    df[t + 'next'].iloc[0] = df[t][0]\n",
    "\n",
    "print('only neighbors')\n",
    "nbrs_names = [x + 'prev' for x in train_tissues] + [x + 'next' for x in train_tissues]\n",
    "run_models(lambda model: cv_folds(partial(sklearn_model_only_metadata, model),\n",
    "                                  df=df, additional_cols=nbrs_names))"
   ]
  },
  {
   "cell_type": "code",
   "execution_count": 19,
   "metadata": {
    "collapsed": false
   },
   "outputs": [
    {
     "name": "stdout",
     "output_type": "stream",
     "text": [
      "memory-based aggr CF over different similarities\n",
      "cosine rmse 0.13076129635912162 methylated acc 0.9544960202961729 R^2 0.3368235828848261\n",
      "canberra rmse 0.12854128714662824 methylated acc 0.9556251939636257 R^2 0.3591848371114346\n",
      "correlation rmse 0.10269469361348192 methylated acc 0.9639252537700195 R^2 0.5919495306590167\n"
     ]
    }
   ],
   "source": [
    "def membased_cf(simil, cols, partial, train_tissue_names):\n",
    "    # https://en.wikipedia.org/wiki/Collaborative_filtering\n",
    "    similarities = np.array([simil(cols[t].iloc[train_ix],\n",
    "                                   partial.iloc[train_ix])\n",
    "                             for t in train_tissue_names])\n",
    "    k = np.sum(np.fabs(similarities))\n",
    "    others = cols[train_tissue_names].iloc[test_ix].values\n",
    "    return others.dot(similarities) / k\n",
    "\n",
    "def cosine_similarity(x, y): return 1 - distance.cosine(x, y)\n",
    "def canberra_similarity(x, y): return len(x) - distance.canberra(x, y)\n",
    "def correlation_similarity(x, y):\n",
    "    c = distance.correlation(x, y)\n",
    "    if np.isnan(c): return 0\n",
    "    else: return 1 - c\n",
    "\n",
    "models = [\n",
    "    ('cosine', cosine_similarity),\n",
    "    ('canberra', canberra_similarity),\n",
    "    ('correlation', correlation_similarity)\n",
    "]\n",
    "print('memory-based aggr CF over different similarities')\n",
    "for name, dist in models:\n",
    "    print(name, perfstr(cv_folds(partial(membased_cf, dist), df=train_df_imp)))\n",
    "\n",
    "# TODO: utilize local values somehow: expand features to neighbors somehow?\n",
    "# TODO: regularized SVD-based CF (need to homebrew with tensorflow)\n",
    "# https://github.com/vlad17/TensorFlow-Learn/blob/master/notebooks/mnist.ipynb for svd, above\n",
    "# TODO: GMM on full tissue samples, then do a marginalized posterior from the limited new\n",
    "# sample data (also needs a homebrew EM). Would use a diagonal, +1, -1 band covar matrix and EM algo.\n",
    "# TODO polynomial multiplication with indicators on the feature set."
   ]
  },
  {
   "cell_type": "code",
   "execution_count": 42,
   "metadata": {
    "collapsed": false
   },
   "outputs": [
    {
     "name": "stdout",
     "output_type": "stream",
     "text": [
      "rmse lm(metadata) 0.15914248602399436\n",
      "rmse lm(tissue) 0.0615562563736748\n",
      "rmse lm(nbrs) 0.11946044593081\n",
      "rmse cf 0.10307612585646515\n"
     ]
    }
   ],
   "source": [
    "useful_cols = list(df.columns)\n",
    "useful_cols.remove('chromosome')\n",
    "useful_cols.remove('start')\n",
    "useful_cols.remove('end')\n",
    "\n",
    "# Let's take a closer look at lm perf for one of our folds.\n",
    "train_cols_fold1 = useful_cols[:]\n",
    "train_cols_fold1.remove(closest)\n",
    "\n",
    "test_col_fold1 = closest\n",
    "train_tissues_fold1 = train_tissues[:]\n",
    "train_tissues_fold1.remove(closest)\n",
    "\n",
    "lmd = dict(lmmodels)\n",
    "\n",
    "guess_tissue = sklearn_model(lmd['ElasticNet'], df[train_tissues_fold1],\n",
    "                             df[test_col_fold1], [])\n",
    "guess_metadata = sklearn_model(lmd['Lasso'], df[metadata_names],\n",
    "                               df[test_col_fold1], [])\n",
    "guess_cf = membased_cf(correlation_similarity, df[train_tissues_fold1],\n",
    "                       df[test_col_fold1], train_tissues_fold1)\n",
    "guess_nbrs = sklearn_model(lmd['ElasticNet'], df[nbrs_names],\n",
    "                           df[test_col_fold1], [])\n",
    "\n",
    "exact = train_df_imp[closest].iloc[test_ix]\n",
    "\n",
    "def print_instance_evaluation(name, guess):\n",
    "    rmse = math.sqrt(mean_squared_error(exact, guess))\n",
    "    acc = correct_half(exact, guess)\n",
    "    r2 = r2_score(exact, guess)\n",
    "    print('{: <16} rmse {:04f} methyl acc {:04f} R^2 {:04f}'\n",
    "          .format(name, rmse, acc, r2))\n",
    "print('rmse lm(metadata)', math.sqrt(mean_squared_error(exact, guess_metadata)))\n",
    "print('rmse lm(tissue)', math.sqrt(mean_squared_error(exact, guess_tissue)))\n",
    "print('rmse lm(nbrs)', math.sqrt(mean_squared_error(exact, guess_nbrs)))\n",
    "print('rmse cf', math.sqrt(mean_squared_error(exact, guess_cf)))"
   ]
  },
  {
   "cell_type": "code",
   "execution_count": 74,
   "metadata": {
    "collapsed": false
   },
   "outputs": [
    {
     "name": "stdout",
     "output_type": "stream",
     "text": [
      "max corr (('tissue', 'CF'), 0.6672206595636575)\n",
      "avg corr 0.543763026004\n"
     ]
    }
   ],
   "source": [
    "res_tissue = guess_tissue - exact\n",
    "res_metadata = guess_metadata - exact\n",
    "res_cf = guess_cf - exact\n",
    "res_nbr = guess_nbrs - exact\n",
    "\n",
    "residuals = [res_tissue, res_metadata, res_cf, res_nbr]\n",
    "names = ['tissue', 'metadata', 'CF', 'neighbors']\n",
    "tbl = [((ni, nj), scipy.stats.pearsonr(i, j)[0]) for (ni, i), (nj, j) in combinations(zip(names, residuals), 2)]\n",
    "(names, corr) = zip(*tbl)\n",
    "print('max corr', max(tbl, key=(lambda x: x[1])))\n",
    "print('avg corr', sum(corr) / len(corr))"
   ]
  },
  {
   "cell_type": "code",
   "execution_count": 44,
   "metadata": {
    "collapsed": false
   },
   "outputs": [
    {
     "name": "stdout",
     "output_type": "stream",
     "text": [
      "tissue + metadata + CF + nbrs\n",
      "\tOLS              rmse 918294465407.820923 methyl acc 0.505070 R^2 -46089434015125237978365952.000000\n",
      "\tRidge            rmse 0.065632 methyl acc 0.978640 R^2 0.831743\n",
      "\tLasso            rmse 0.065382 methyl acc 0.978741 R^2 0.832932\n",
      "\tRFR              rmse 0.067801 methyl acc 0.976716 R^2 0.820712\n",
      "\tElasticNet       rmse 0.065386 methyl acc 0.978702 R^2 0.832885\n",
      "\tBEST Lasso  (R^2 = 0.8329319767440063)\n",
      "tissue + metadata + CF\n",
      "\tOLS              rmse 0.069344 methyl acc 0.976391 R^2 0.812837\n",
      "\tRidge            rmse 0.068907 methyl acc 0.976405 R^2 0.815195\n",
      "\tLasso            rmse 0.068943 methyl acc 0.976432 R^2 0.815013\n",
      "\tRFR              rmse 0.069135 methyl acc 0.975969 R^2 0.813892\n",
      "\tElasticNet       rmse 0.068888 methyl acc 0.976413 R^2 0.815304\n",
      "\tBEST ElasticNet  (R^2 = 0.8153037818902217)\n",
      "tissue + metadata + CF\n",
      "\tOLS              rmse 0.065802 methyl acc 0.978831 R^2 0.830862\n",
      "\tRidge            rmse 0.065698 methyl acc 0.978804 R^2 0.831421\n",
      "\tLasso            rmse 0.065402 methyl acc 0.978778 R^2 0.832849\n",
      "\tRFR              rmse 0.067847 methyl acc 0.976681 R^2 0.820486\n",
      "\tElasticNet       rmse 0.065437 methyl acc 0.978795 R^2 0.832692\n",
      "\tBEST Lasso  (R^2 = 0.8328491448416543)\n",
      "tissue + CF\n",
      "\tOLS              rmse 0.069204 methyl acc 0.976370 R^2 0.813659\n",
      "\tRidge            rmse 0.069097 methyl acc 0.976368 R^2 0.814252\n",
      "\tLasso            rmse 0.069079 methyl acc 0.976357 R^2 0.814314\n",
      "\tRFR              rmse 0.069228 methyl acc 0.975896 R^2 0.813427\n",
      "\tElasticNet       rmse 0.069056 methyl acc 0.976345 R^2 0.814433\n",
      "\tBEST ElasticNet  (R^2 = 0.8144334092808666)\n",
      "tissue + nbrs\n",
      "\tOLS              rmse 0.065802 methyl acc 0.978831 R^2 0.830862\n",
      "\tRidge            rmse 0.065698 methyl acc 0.978804 R^2 0.831421\n",
      "\tLasso            rmse 0.065402 methyl acc 0.978778 R^2 0.832849\n",
      "\tRFR              rmse 0.067847 methyl acc 0.976681 R^2 0.820486\n",
      "\tElasticNet       rmse 0.065437 methyl acc 0.978795 R^2 0.832692\n",
      "\tBEST Lasso  (R^2 = 0.8328491448416543)\n",
      "tissue + metadata\n",
      "\tOLS              rmse 353236847076.897034 methyl acc 0.355932 R^2 -10338119263288304768909312.000000\n",
      "\tRidge            rmse 0.068906 methyl acc 0.976408 R^2 0.815196\n",
      "\tLasso            rmse 0.068943 methyl acc 0.976432 R^2 0.815011\n",
      "\tRFR              rmse 0.069116 methyl acc 0.975938 R^2 0.813984\n",
      "\tElasticNet       rmse 0.068889 methyl acc 0.976413 R^2 0.815302\n",
      "\tBEST ElasticNet  (R^2 = 0.8153016662036379)\n"
     ]
    }
   ],
   "source": [
    "def ensemble_regression(lm, cols, partial, train_tissue_names):\n",
    "    simil = correlation_similarity\n",
    "    similarities = np.array([simil(cols[t].iloc[train_ix],\n",
    "                                   partial.iloc[train_ix])\n",
    "                             for t in train_tissue_names])\n",
    "    k = np.sum(np.fabs(similarities))\n",
    "    others = cols[train_tissue_names].values\n",
    "    cf = pd.Series(others.dot(similarities) / k, index=cols.index)\n",
    "    cols = cols.copy(deep=False)\n",
    "    cols['cf'] = cf\n",
    "    return sklearn_model(lm, cols, partial, train_tissue_names)\n",
    "print('tissue + metadata + CF + nbrs')\n",
    "run_models(lambda model: cv_folds(partial(ensemble_regression, model),\n",
    "                                  df=df, additional_cols=(metadata_names + nbrs_names)))\n",
    "print('tissue + metadata + CF')\n",
    "run_models(lambda model: cv_folds(partial(ensemble_regression, model),\n",
    "                                  df=df, additional_cols=metadata_names))\n",
    "print('tissue + nbrs + CF')\n",
    "run_models(lambda model: cv_folds(partial(ensemble_regression, model),\n",
    "                                  df=df, additional_cols=nbrs_names))\n",
    "print('tissue + CF')\n",
    "run_models(lambda model: cv_folds(partial(ensemble_regression, model),\n",
    "                                  df=df))\n",
    "print('tissue + nbrs')\n",
    "run_models(lambda model: cv_folds(partial(ensemble_regression, model),\n",
    "                                  df=df, additional_cols=nbrs_names))\n",
    "print('tissue + metadata')\n",
    "run_models(lambda model: cv_folds(partial(sklearn_model, model),\n",
    "                                  df=df, additional_cols=metadata_names))"
   ]
  },
  {
   "cell_type": "code",
   "execution_count": 49,
   "metadata": {
    "collapsed": false
   },
   "outputs": [],
   "source": [
    "# Having chosen our best model, organize a true training and test set\n",
    "# for our holdout tissue\n",
    "similarities = np.array([correlation_similarity(df[t].iloc[train_ix],\n",
    "                                                test_df['filled'].iloc[train_ix])\n",
    "                         for t in train_tissues])\n",
    "k = np.sum(np.fabs(similarities))\n",
    "cf = pd.Series(df[train_tissues].values.dot(similarities) / k, index=df.index)\n",
    "df_with_cf = df[useful_cols]\n",
    "df_with_cf['cf'] = cf"
   ]
  },
  {
   "cell_type": "code",
   "execution_count": 67,
   "metadata": {
    "collapsed": false
   },
   "outputs": [
    {
     "data": {
      "text/plain": [
       "{'alpha': 0.00015999999999999982}"
      ]
     },
     "execution_count": 67,
     "metadata": {},
     "output_type": "execute_result"
    }
   ],
   "source": [
    "# Grid search narrowed down by re-running same training set\n",
    "# (without looking at test accuracy)\n",
    "best_combined = linear_model.Lasso()\n",
    "grid = GridSearchCV(best_combined, {'alpha': np.arange(1e-4, 2e-4, 1e-6)}, cv=50, n_jobs=nproc)\n",
    "grid.fit(df_with_cf.iloc[train_ix], test_df['filled'].iloc[train_ix])\n",
    "grid.best_params_"
   ]
  },
  {
   "cell_type": "code",
   "execution_count": 68,
   "metadata": {
    "collapsed": false
   },
   "outputs": [
    {
     "name": "stdout",
     "output_type": "stream",
     "text": [
      "Ensemble on test: rmse 0.059271 methyl acc 0.980633 R^2 0.877143\n"
     ]
    }
   ],
   "source": [
    "guess = grid.predict(df_with_cf.iloc[test_ix])\n",
    "exact = test_df['filled'].iloc[test_ix].values\n",
    "\n",
    "rmse = math.sqrt(mean_squared_error(exact, guess))\n",
    "acc = correct_half(exact, guess)\n",
    "r2 = r2_score(exact, guess)\n",
    "res = guess - exact\n",
    "\n",
    "print('Ensemble on test: rmse {:04f} methyl acc {:04f} R^2 {:04f}'.format(rmse, acc, r2))"
   ]
  },
  {
   "cell_type": "code",
   "execution_count": 69,
   "metadata": {
    "collapsed": false
   },
   "outputs": [
    {
     "data": {
      "image/png": "[encoded data removed]",
      "text/plain": [
       "<matplotlib.figure.Figure at 0x7f2f8bff85d0>"
      ]
     },
     "metadata": {},
     "output_type": "display_data"
    },
    {
     "name": "stdout",
     "output_type": "stream",
     "text": [
      "sd ratios [4.6196193481454584, 4.1785891525192111]\n"
     ]
    },
    {
     "data": {
      "image/png": "[encoded data removed]",
      "text/plain": [
       "<matplotlib.figure.Figure at 0x7f2f910a6150>"
      ]
     },
     "metadata": {},
     "output_type": "display_data"
    }
   ],
   "source": [
    "plt.hist(res, bins=50)\n",
    "plt.xlabel('residual')\n",
    "plt.ylabel('frequency')\n",
    "plt.title('residuals for ensemble')\n",
    "plt.grid(True)\n",
    "plt.show()\n",
    "\n",
    "plt.figure(figsize=(10, 2))\n",
    "ratios = []\n",
    "plt.title('rolling mean (n = 1000) methylation levels')\n",
    "plt.xlabel('genomic position')\n",
    "plt.ylabel('mean methyl. prop.')\n",
    "\n",
    "ratios = []\n",
    "\n",
    "x = local_impute(np.copy(test_df['filled']))\n",
    "rolled = pd.Series(x).rolling(window=1000, win_type='boxcar').mean()\n",
    "ratios.append(np.std(x) / np.std(rolled))\n",
    "actual, = plt.plot(rolled, label='exact')\n",
    "\n",
    "x = grid.predict(df_with_cf)\n",
    "rolled = pd.Series(x).rolling(window=1000, win_type='boxcar').mean()\n",
    "ratios.append(np.std(x) / np.std(rolled))\n",
    "guess, = plt.plot(rolled, label='regression', alpha=0.7)\n",
    "\n",
    "print('sd ratios', ratios)\n",
    "plt.legend(handles=[actual,guess])\n",
    "plt.legend(bbox_to_anchor=(1.05, 1), loc=2, borderaxespad=0.)\n",
    "plt.show()"
   ]
  },
  {
   "cell_type": "code",
   "execution_count": 71,
   "metadata": {
    "collapsed": false
   },
   "outputs": [
    {
     "data": {
      "text/plain": [
       "(0.0095296811232219118, 21.34088292175987)"
      ]
     },
     "execution_count": 71,
     "metadata": {},
     "output_type": "execute_result"
    }
   ],
   "source": [
    "np.isnan(test_df['filled']).mean(), 4.6196193481454584 ** 2"
   ]
  },
  {
   "cell_type": "markdown",
   "metadata": {},
   "source": [
    " regularized iterative SVD: for every present user U and some number of factors (dim V)\n",
    " $\\min \\sum_{i,j \\in R} (r_{i,j} - \\mathbf{U}_i \\  \\mathbf{V}_j^T) +  \\lambda (\\sum_i \\lVert \\mathbf{U}_i \\rVert^2   \\sum_j \\lVert \\mathbf{V}_j \\rVert^2)$"
   ]
  },
  {
   "cell_type": "code",
   "execution_count": 80,
   "metadata": {
    "collapsed": false
   },
   "outputs": [
    {
     "name": "stdout",
     "output_type": "stream",
     "text": [
      "chr11.txt Ensemble on test: rmse 0.058498 methyl acc 0.980540 R^2 0.881261 alpha 0.000187\n",
      "chr1.txt Ensemble on test: rmse 0.059487 methyl acc 0.980514 R^2 0.876247 alpha 0.000186\n",
      "chr2.txt Ensemble on test: rmse 0.058964 methyl acc 0.981492 R^2 0.871433 alpha 0.000192\n",
      "chr6.txt Ensemble on test: rmse 0.058874 methyl acc 0.981250 R^2 0.874899 alpha 0.000198\n",
      "chr7.txt Ensemble on test: rmse 0.059009 methyl acc 0.980331 R^2 0.870044 alpha 0.000169\n"
     ]
    }
   ],
   "source": [
    "# See how the other chromosomes did (results from running and saving script\n",
    "# check_chromosome.py)\n",
    "# Note R^2 for chr1 is different because of random initialization.\n",
    "del i\n",
    "! for i in chr*.txt; do echo $i $(tail -1 $i); done"
   ]
  }
 ],
 "metadata": {
  "kernelspec": {
   "display_name": "Python 3",
   "language": "python",
   "name": "python3"
  },
  "language_info": {
   "codemirror_mode": {
    "name": "ipython",
    "version": 3
   },
   "file_extension": ".py",
   "mimetype": "text/x-python",
   "name": "python",
   "nbconvert_exporter": "python",
   "pygments_lexer": "ipython3",
   "version": "3.3.2"
  }
 },
 "nbformat": 4,
 "nbformat_minor": 0
}
