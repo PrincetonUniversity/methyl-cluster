{
 "cells": [
  {
   "cell_type": "code",
   "execution_count": 11,
   "metadata": {
    "collapsed": false
   },
   "outputs": [],
   "source": [
    "# Imports\n",
    "\n",
    "import numpy as np\n",
    "import pandas as pd\n",
    "import os, os.path\n",
    "from itertools import *\n",
    "%matplotlib inline\n",
    "import matplotlib.pyplot as plt\n",
    "import math\n",
    "import random\n",
    "import scipy.stats\n",
    "import sys\n",
    "\n",
    "# Warnings\n",
    "\n",
    "import warnings\n",
    "warnings.filterwarnings('ignore')\n",
    "\n",
    "# Idempotent data retrieval script\n",
    "\n",
    "chromosomes = [1, 2, 6, 7, 11]\n",
    "def chromosome_files(n):\n",
    "    base = 'intersected_final_chr'\n",
    "    spec = '_cutoff_20_'\n",
    "    suffixes = ['train.bed', 'sample_partial.bed', 'sample_full.bed']\n",
    "    return [base + str(n) + spec + suffix for suffix in suffixes]\n",
    "all_chromosomes = set(chain.from_iterable(chromosome_files(n) for n in chromosomes))\n",
    "\n",
    "if 'methylation_imputation' not in [x for x in os.listdir('.') if os.path.isdir(x)]:\n",
    "    raise Exception('Missing assignment repository in cwd')\n",
    "\n",
    "if not os.path.exists('data'):\n",
    "    os.mkdir('data')\n",
    "\n",
    "def have_chromosomes(): return all_chromosomes.issubset(set(os.listdir('data')))\n",
    "if not have_chromosomes():\n",
    "    ! gunzip -k -f methylation_imputation/data/*.bed.gz\n",
    "    ! mv methylation_imputation/data/*.bed data/\n",
    "    if not have_chromosomes():\n",
    "        raise Exception('Error unpacking chromosomes data')\n",
    "\n",
    "encode_file = 'wgEncodeRegTfbsClusteredV3.bed'\n",
    "annotations_files = {encode_file}\n",
    "def have_annotations(): return annotations_files.issubset(set(os.listdir('data')))\n",
    "if not have_annotations():\n",
    "    ! gunzip -k -f methylation_imputation/annotations/*.bed.gz\n",
    "    ! mv methylation_imputation/annotations/*.bed data/\n",
    "    if not have_annotations():\n",
    "        raise Exception('Error unpacking ENCODE data')\n",
    "\n",
    "def read_tsv(name): return pd.read_csv(name, sep='\\t', header=None)\n",
    "train_chr1 = read_tsv('data/' + chromosome_files(1)[0])\n",
    "test_chr1_partial = read_tsv('data/' + chromosome_files(1)[1])\n",
    "test_chr1_full = read_tsv('data/' + chromosome_files(1)[2])\n",
    "\n",
    "unknown_chr1_ix = np.where((test_chr1_partial[5] == 0) & ~np.isnan(test_chr1_full[4]))[0]\n",
    "known_chr1_ix = np.where((test_chr1_partial[5] == 1) & ~np.isnan(test_chr1_partial[4]))[0]\n",
    "\n",
    "test_ix = unknown_chr1_ix\n",
    "train_ix = known_chr1_ix\n",
    "\n",
    "train_df = train_chr1\n",
    "train_tissues = ['b' + str(x) for x in range(train_chr1.shape[1] - 4)]\n",
    "train_df.columns = ['chromosome', 'start', 'end', 'strand'] + train_tissues\n",
    "\n",
    "test_df = test_chr1_full\n",
    "test_df.columns = ['chromosome', 'start', 'end', 'strand', 'filled', 'assayed']\n",
    "test_df['missing'] = test_chr1_partial[4]\n",
    "\n",
    "train_df['strand'] = train_df['strand'] == '+'\n",
    "test_df['strand'] = test_df['strand'] == '+'"
   ]
  },
  {
   "cell_type": "code",
   "execution_count": 2,
   "metadata": {
    "collapsed": false
   },
   "outputs": [],
   "source": [
    "# Add CRE info\n",
    "rawe = read_tsv('data/' + encode_file)\n",
    "rawe.drop([4, 5, 6, 7], axis=1, inplace=True)\n",
    "rawe.columns = ['chromosome', 'start', 'end', 'tf']\n",
    "tfs = set(rawe['tf'])\n",
    "\n",
    "# This may take a minute\n",
    "from intervaltree import IntervalTree, Interval\n",
    "iv_chr1 = IntervalTree((Interval(*x[1]) for x in\n",
    "                       rawe[rawe['chromosome'] == 'chr1'][['start', 'end', 'tf']].iterrows()))\n",
    "def inside_tf(row):\n",
    "    overlap = [x.data for x in iv_chr1[row['start']:row['end']]]\n",
    "    return pd.Series({tf: (tf in overlap) for tf in tfs})\n",
    "# This may take 3 minutes\n",
    "train_df = train_df.merge(train_df[['start', 'end']].apply(inside_tf, axis=1), copy=False,\n",
    "                          left_index=True, right_index=True)\n",
    "\n",
    "import gc\n",
    "iv_chr1 = rawe = None\n",
    "gc.collect()\n",
    "pass"
   ]
  },
  {
   "cell_type": "code",
   "execution_count": 23,
   "metadata": {
    "collapsed": false
   },
   "outputs": [
    {
     "data": {
      "text/plain": [
       "413436"
      ]
     },
     "execution_count": 23,
     "metadata": {},
     "output_type": "execute_result"
    }
   ],
   "source": [
    "# Double check that there actually are transcription factors in there:\n",
    "train_df[list(tfs)].sum().sum()"
   ]
  },
  {
   "cell_type": "code",
   "execution_count": 3,
   "metadata": {
    "collapsed": false
   },
   "outputs": [
    {
     "name": "stdout",
     "output_type": "stream",
     "text": [
      "Num train tissues 34\n",
      "Num trans factors 161\n"
     ]
    },
    {
     "data": {
      "text/html": [
       "<div>\n",
       "<table border=\"1\" class=\"dataframe\">\n",
       "  <thead>\n",
       "    <tr style=\"text-align: right;\">\n",
       "      <th></th>\n",
       "      <th>chromosome</th>\n",
       "      <th>start</th>\n",
       "      <th>end</th>\n",
       "      <th>strand</th>\n",
       "      <th>b0</th>\n",
       "      <th>b1</th>\n",
       "      <th>b2</th>\n",
       "      <th>b3</th>\n",
       "      <th>b4</th>\n",
       "      <th>b5</th>\n",
       "      <th>...</th>\n",
       "      <th>YY1</th>\n",
       "      <th>ZBTB33</th>\n",
       "      <th>ZBTB7A</th>\n",
       "      <th>ZEB1</th>\n",
       "      <th>ZKSCAN1</th>\n",
       "      <th>ZNF143</th>\n",
       "      <th>ZNF217</th>\n",
       "      <th>ZNF263</th>\n",
       "      <th>ZNF274</th>\n",
       "      <th>ZZZ3</th>\n",
       "    </tr>\n",
       "  </thead>\n",
       "  <tbody>\n",
       "    <tr>\n",
       "      <th>267</th>\n",
       "      <td>chr1</td>\n",
       "      <td>121511</td>\n",
       "      <td>121513</td>\n",
       "      <td>True</td>\n",
       "      <td>0.714286</td>\n",
       "      <td>0.739130</td>\n",
       "      <td>0.800000</td>\n",
       "      <td>0.782609</td>\n",
       "      <td>0.794872</td>\n",
       "      <td>0.750000</td>\n",
       "      <td>...</td>\n",
       "      <td>False</td>\n",
       "      <td>False</td>\n",
       "      <td>False</td>\n",
       "      <td>False</td>\n",
       "      <td>False</td>\n",
       "      <td>False</td>\n",
       "      <td>False</td>\n",
       "      <td>False</td>\n",
       "      <td>False</td>\n",
       "      <td>False</td>\n",
       "    </tr>\n",
       "    <tr>\n",
       "      <th>268</th>\n",
       "      <td>chr1</td>\n",
       "      <td>121516</td>\n",
       "      <td>121518</td>\n",
       "      <td>True</td>\n",
       "      <td>0.857143</td>\n",
       "      <td>0.800000</td>\n",
       "      <td>0.833333</td>\n",
       "      <td>0.913043</td>\n",
       "      <td>0.909091</td>\n",
       "      <td>0.806452</td>\n",
       "      <td>...</td>\n",
       "      <td>False</td>\n",
       "      <td>False</td>\n",
       "      <td>False</td>\n",
       "      <td>False</td>\n",
       "      <td>False</td>\n",
       "      <td>False</td>\n",
       "      <td>False</td>\n",
       "      <td>False</td>\n",
       "      <td>False</td>\n",
       "      <td>False</td>\n",
       "    </tr>\n",
       "    <tr>\n",
       "      <th>269</th>\n",
       "      <td>chr1</td>\n",
       "      <td>122736</td>\n",
       "      <td>122738</td>\n",
       "      <td>False</td>\n",
       "      <td>0.545455</td>\n",
       "      <td>0.384615</td>\n",
       "      <td>0.472727</td>\n",
       "      <td>NaN</td>\n",
       "      <td>0.436364</td>\n",
       "      <td>0.580000</td>\n",
       "      <td>...</td>\n",
       "      <td>False</td>\n",
       "      <td>False</td>\n",
       "      <td>False</td>\n",
       "      <td>False</td>\n",
       "      <td>False</td>\n",
       "      <td>False</td>\n",
       "      <td>False</td>\n",
       "      <td>False</td>\n",
       "      <td>False</td>\n",
       "      <td>False</td>\n",
       "    </tr>\n",
       "    <tr>\n",
       "      <th>270</th>\n",
       "      <td>chr1</td>\n",
       "      <td>122869</td>\n",
       "      <td>122871</td>\n",
       "      <td>False</td>\n",
       "      <td>0.837838</td>\n",
       "      <td>0.814815</td>\n",
       "      <td>0.725000</td>\n",
       "      <td>0.807692</td>\n",
       "      <td>0.710526</td>\n",
       "      <td>0.565217</td>\n",
       "      <td>...</td>\n",
       "      <td>False</td>\n",
       "      <td>False</td>\n",
       "      <td>False</td>\n",
       "      <td>False</td>\n",
       "      <td>False</td>\n",
       "      <td>False</td>\n",
       "      <td>False</td>\n",
       "      <td>False</td>\n",
       "      <td>False</td>\n",
       "      <td>False</td>\n",
       "    </tr>\n",
       "    <tr>\n",
       "      <th>271</th>\n",
       "      <td>chr1</td>\n",
       "      <td>122884</td>\n",
       "      <td>122886</td>\n",
       "      <td>False</td>\n",
       "      <td>0.842105</td>\n",
       "      <td>0.821429</td>\n",
       "      <td>0.720930</td>\n",
       "      <td>0.800000</td>\n",
       "      <td>0.795455</td>\n",
       "      <td>0.478261</td>\n",
       "      <td>...</td>\n",
       "      <td>False</td>\n",
       "      <td>False</td>\n",
       "      <td>False</td>\n",
       "      <td>False</td>\n",
       "      <td>False</td>\n",
       "      <td>False</td>\n",
       "      <td>False</td>\n",
       "      <td>False</td>\n",
       "      <td>False</td>\n",
       "      <td>False</td>\n",
       "    </tr>\n",
       "    <tr>\n",
       "      <th>272</th>\n",
       "      <td>chr1</td>\n",
       "      <td>127749</td>\n",
       "      <td>127751</td>\n",
       "      <td>True</td>\n",
       "      <td>0.633333</td>\n",
       "      <td>0.473684</td>\n",
       "      <td>0.703704</td>\n",
       "      <td>0.611111</td>\n",
       "      <td>0.827586</td>\n",
       "      <td>0.666667</td>\n",
       "      <td>...</td>\n",
       "      <td>False</td>\n",
       "      <td>False</td>\n",
       "      <td>False</td>\n",
       "      <td>False</td>\n",
       "      <td>False</td>\n",
       "      <td>False</td>\n",
       "      <td>False</td>\n",
       "      <td>False</td>\n",
       "      <td>False</td>\n",
       "      <td>False</td>\n",
       "    </tr>\n",
       "  </tbody>\n",
       "</table>\n",
       "<p>6 rows × 199 columns</p>\n",
       "</div>"
      ],
      "text/plain": [
       "    chromosome   start     end strand        b0        b1        b2        b3  \\\n",
       "267       chr1  121511  121513   True  0.714286  0.739130  0.800000  0.782609   \n",
       "268       chr1  121516  121518   True  0.857143  0.800000  0.833333  0.913043   \n",
       "269       chr1  122736  122738  False  0.545455  0.384615  0.472727       NaN   \n",
       "270       chr1  122869  122871  False  0.837838  0.814815  0.725000  0.807692   \n",
       "271       chr1  122884  122886  False  0.842105  0.821429  0.720930  0.800000   \n",
       "272       chr1  127749  127751   True  0.633333  0.473684  0.703704  0.611111   \n",
       "\n",
       "           b4        b5  ...      YY1  ZBTB33  ZBTB7A   ZEB1  ZKSCAN1  ZNF143  \\\n",
       "267  0.794872  0.750000  ...    False   False   False  False    False   False   \n",
       "268  0.909091  0.806452  ...    False   False   False  False    False   False   \n",
       "269  0.436364  0.580000  ...    False   False   False  False    False   False   \n",
       "270  0.710526  0.565217  ...    False   False   False  False    False   False   \n",
       "271  0.795455  0.478261  ...    False   False   False  False    False   False   \n",
       "272  0.827586  0.666667  ...    False   False   False  False    False   False   \n",
       "\n",
       "     ZNF217  ZNF263  ZNF274   ZZZ3  \n",
       "267   False   False   False  False  \n",
       "268   False   False   False  False  \n",
       "269   False   False   False  False  \n",
       "270   False   False   False  False  \n",
       "271   False   False   False  False  \n",
       "272   False   False   False  False  \n",
       "\n",
       "[6 rows x 199 columns]"
      ]
     },
     "execution_count": 3,
     "metadata": {},
     "output_type": "execute_result"
    }
   ],
   "source": [
    "print('Num train tissues', len(train_tissues))\n",
    "print('Num trans factors', len(tfs))\n",
    "train_df.loc[range(267, 273)]"
   ]
  },
  {
   "cell_type": "code",
   "execution_count": 4,
   "metadata": {
    "collapsed": false
   },
   "outputs": [
    {
     "name": "stdout",
     "output_type": "stream",
     "text": [
      "Chromosome 1\n",
      "Total samples 379551\n",
      "Site lengths {2: 379551}\n",
      "Strand types {False: 1464, True: 378087}\n",
      "Known (test) sample site counts 7523\n",
      "Unknown (test) sample site counts 368411\n",
      "NaN ratio in all train samples 0.0849950103582\n",
      "NaN ratio in test 0.980179211753\n"
     ]
    }
   ],
   "source": [
    "assert len(train_df) == len(test_df)\n",
    "def count_unique(col):\n",
    "    return {x:sum(col == x) for x in set(col)}\n",
    "\n",
    "print('Chromosome 1')\n",
    "print('Total samples', len(train_df))\n",
    "print('Site lengths', count_unique(train_df['end'] - train_chr1['start']))\n",
    "print('Strand types', count_unique(train_df['strand']))\n",
    "print('Known (test) sample site counts', len(known_chr1_ix))\n",
    "print('Unknown (test) sample site counts', len(unknown_chr1_ix))\n",
    "print('NaN ratio in all train samples',\n",
    "      sum(sum(np.isnan(train_df[train_tissues].values))) / (len(train_df) * len(train_tissues)))\n",
    "print('NaN ratio in test', sum(np.isnan(test_df['missing'])) / len(test_df))\n",
    "assert sum(test_df['strand'] != train_df['strand']) == 0"
   ]
  },
  {
   "cell_type": "code",
   "execution_count": 5,
   "metadata": {
    "collapsed": false
   },
   "outputs": [
    {
     "data": {
      "image/png": "[encoded data removed]",
      "text/plain": [
       "<matplotlib.figure.Figure at 0x7f89a2bf1fd0>"
      ]
     },
     "metadata": {},
     "output_type": "display_data"
    },
    {
     "name": "stdout",
     "output_type": "stream",
     "text": [
      "avg length between known sites 50.2903483116\n",
      "sd of number of bp between sites 86.9614546017\n"
     ]
    },
    {
     "data": {
      "image/png": "[encoded data removed]",
      "text/plain": [
       "<matplotlib.figure.Figure at 0x7f89a25625c0>"
      ]
     },
     "metadata": {},
     "output_type": "display_data"
    }
   ],
   "source": [
    "# Make sure our samples are pretty uniform from the genomic range\n",
    "def ticks(n): return np.arange(0.0, n) / n\n",
    "plt.plot(ticks(len(known_chr1_ix)), known_chr1_ix / len(train_df), '.')\n",
    "plt.plot([0, 1])\n",
    "plt.axes().set_aspect('equal')\n",
    "plt.xlabel('CpG sample')\n",
    "plt.ylabel('entire chromosome')\n",
    "plt.title('QQ-plot of site positions')\n",
    "plt.grid(True)\n",
    "plt.show()\n",
    "\n",
    "diffs = np.diff(known_chr1_ix)\n",
    "print('avg length between known sites', np.mean(diffs))\n",
    "print('sd of number of bp between sites', np.std(diffs))\n",
    "plt.plot(np.diff(known_chr1_ix))\n",
    "plt.xlabel('length between known sites')\n",
    "plt.ylabel('frequency')\n",
    "plt.title('histogram of adjacent site information')\n",
    "plt.grid(True)\n",
    "plt.show()"
   ]
  },
  {
   "cell_type": "code",
   "execution_count": 6,
   "metadata": {
    "collapsed": false
   },
   "outputs": [
    {
     "data": {
      "image/png": "[encoded data removed]",
      "text/plain": [
       "<matplotlib.figure.Figure at 0x7f8976e7b978>"
      ]
     },
     "metadata": {},
     "output_type": "display_data"
    }
   ],
   "source": [
    "# Observe nearby site correlations\n",
    "def drop_nan_corr(x, y):\n",
    "    ix = np.where(~np.isnan(y) & ~np.isnan(x))\n",
    "    return scipy.stats.pearsonr(x[ix], y[ix])[0]\n",
    "# Choose a random site, check neighbors within vicinity of 'reach'\n",
    "reach = list(range(30))\n",
    "reach = [-x for x in reversed(reach)] + reach[1:]\n",
    "def sample_corr(reach):\n",
    "    site = random.randint(max(reach), len(train_chr1) - max(reach) - 1)\n",
    "    y = np.array(train_df.iloc[site][train_tissues[:-1]]\n",
    "                 .values).astype(np.float64)\n",
    "    nbrs = [site + i for i in reach]\n",
    "    xs = np.array(train_df.iloc[nbrs][train_tissues[:-1]]\n",
    "                  .values).astype(np.float64)\n",
    "    return np.array([drop_nan_corr(x, y) for x in xs])\n",
    "\n",
    "sample = 1000\n",
    "test = np.array([sample_corr(reach) for i in range(sample)])\n",
    "plt.errorbar(reach, np.mean(test, axis=0), fmt='-o', yerr=np.std(test, axis=0))\n",
    "plt.title('within tissue neighbor correlation (n={})'.format(sample))\n",
    "plt.ylabel('across tissue samples')\n",
    "plt.xlabel('site displacement')\n",
    "plt.show()"
   ]
  },
  {
   "cell_type": "code",
   "execution_count": 4,
   "metadata": {
    "collapsed": false
   },
   "outputs": [
    {
     "data": {
      "image/png": "[encoded data removed]",
      "text/plain": [
       "<matplotlib.figure.Figure at 0x7f1721f63160>"
      ]
     },
     "metadata": {},
     "output_type": "display_data"
    },
    {
     "name": "stdout",
     "output_type": "stream",
     "text": [
      "orig : rolling mean stddevs [4.8590050282935104, 4.6245001454552384, 11.339790875795508]\n"
     ]
    }
   ],
   "source": [
    "# Perhaps there are obvious sequence trends?\n",
    "def local_impute(data):\n",
    "    #http://stackoverflow.com/questions/9537543/replace-nans-in-numpy-array-with-closest-non-nan-value\n",
    "    mask = np.isnan(data)\n",
    "    data[mask] = np.interp(np.flatnonzero(mask), np.flatnonzero(~mask), data[~mask])\n",
    "    return data\n",
    "\n",
    "plt.figure(figsize=(10, 2))\n",
    "ratios = []\n",
    "plt.title('rolling mean (n = 1000) methylation levels in train tissues 0, 1, 33')\n",
    "plt.xlabel('genomic position')\n",
    "plt.ylabel('mean methyl. prop.')\n",
    "\n",
    "x = local_impute(np.copy(train_df['b0']))\n",
    "rolled = pd.Series(x).rolling(window=1000, win_type='boxcar').mean()\n",
    "ratios.append(np.std(x) / np.std(rolled))\n",
    "l0, = plt.plot(rolled, label='0')\n",
    "\n",
    "x = local_impute(np.copy(train_df['b1']))\n",
    "rolled = pd.Series(x).rolling(window=1000, win_type='boxcar').mean()\n",
    "ratios.append(np.std(x) / np.std(rolled))\n",
    "l1, = plt.plot(rolled, label='1')\n",
    "\n",
    "x = local_impute(np.copy(train_df['b33']))\n",
    "rolled = pd.Series(x).rolling(window=1000, win_type='boxcar').mean()\n",
    "ratios.append(np.std(x) / np.std(rolled))\n",
    "l33, = plt.plot(rolled, label='33')\n",
    "\n",
    "plt.legend(handles=[l0, l1, l33])\n",
    "plt.legend(bbox_to_anchor=(1.05, 1), loc=2, borderaxespad=0.)\n",
    "plt.show()\n",
    "print('orig : rolling mean stddevs', ratios)"
   ]
  },
  {
   "cell_type": "code",
   "execution_count": 8,
   "metadata": {
    "collapsed": false
   },
   "outputs": [
    {
     "name": "stdout",
     "output_type": "stream",
     "text": [
      "Training tissue sparsities [0.0, 0.0, 0.0, 0.0, 0.0, 0.0, 0.0, 0.0, 0.0, 0.0, 0.0, 0.0, 0.0, 0.0, 0.0, 0.0, 0.0, 0.0, 0.0, 0.0, 0.0, 0.0, 0.0, 0.0, 0.0, 0.0, 0.0, 0.0, 0.0, 0.0, 0.0, 0.0, 0.0, 0.97994999354500445]\n",
      "Sample sparsity 0.0\n"
     ]
    }
   ],
   "source": [
    "# Sparsity\n",
    "print('Training tissue sparsities', [(train_df[i] <= 0.01).sum() / len(train_df) for i in train_tissues])\n",
    "print('Sample sparsity', (test_df['filled'][train_ix] <= 0.01).sum() / len(train_ix))"
   ]
  },
  {
   "cell_type": "code",
   "execution_count": 5,
   "metadata": {
    "collapsed": false
   },
   "outputs": [
    {
     "name": "stdout",
     "output_type": "stream",
     "text": [
      "nans in mean-imputed 0\n",
      "nans in interpolated 0\n"
     ]
    }
   ],
   "source": [
    "# Do mean imputation on our training data.\n",
    "def mean_impute(data):\n",
    "    mask = np.isnan(data)\n",
    "    data[mask] = float(data.mean()) # just = m messes with serialization\n",
    "    return data\n",
    "train_df_imp = train_df\n",
    "train_df_int = train_df\n",
    "for i in train_tissues:\n",
    "    train_df_imp[i] = mean_impute(train_df[i].copy())\n",
    "    train_df_int[i] = local_impute(train_df[i].copy())\n",
    "print('nans in mean-imputed', np.isnan(train_df_imp[train_tissues]).sum().sum())\n",
    "print('nans in interpolated', np.isnan(train_df_int[train_tissues]).sum().sum())"
   ]
  },
  {
   "cell_type": "code",
   "execution_count": 10,
   "metadata": {
    "collapsed": false
   },
   "outputs": [
    {
     "data": {
      "image/png": "[encoded data removed]",
      "text/plain": [
       "<matplotlib.figure.Figure at 0x7f89a273d860>"
      ]
     },
     "metadata": {},
     "output_type": "display_data"
    },
    {
     "name": "stdout",
     "output_type": "stream",
     "text": [
      "closest to test sample based on training data: 19\n"
     ]
    }
   ],
   "source": [
    "corr_mat = [[scipy.stats.pearsonr(train_df_imp\n",
    "                                  [a], train_df_imp[b])[0]\n",
    "             for a in train_tissues] for b in train_tissues]\n",
    "plt.imshow(corr_mat, interpolation='nearest', cmap=plt.cm.ocean)\n",
    "plt.title('chromosome correlation matrix')\n",
    "plt.colorbar()\n",
    "plt.tight_layout()\n",
    "plt.show()\n",
    "\n",
    "def pandas_rmse(a, b):\n",
    "    # http://stackoverflow.com/questions/27783494/root-mean-square-error-of-two-pandas-series\n",
    "    return math.sqrt(a.sub(b).pow(2).mean())\n",
    "\n",
    "l = [pandas_rmse(train_df_imp[t].iloc[train_ix], test_df['filled'][train_ix]) for t in train_tissues]\n",
    "print('closest to test sample based on training data:', l.index(min(l)))"
   ]
  },
  {
   "cell_type": "code",
   "execution_count": 11,
   "metadata": {
    "collapsed": false
   },
   "outputs": [],
   "source": [
    "# We'll only test on the well-behaved chromosomes similar to our\n",
    "# test chromosome according to the cluster above, testable:\n",
    "testable_tissues = ['b' + str(i) for i in range(19, 25)]\n",
    "closest = 'b19'\n",
    "# this is just an eyeball selection, but should prove good enough to\n",
    "# offer decent generalization via cross validation."
   ]
  },
  {
   "cell_type": "code",
   "execution_count": 12,
   "metadata": {
    "collapsed": false
   },
   "outputs": [],
   "source": [
    "# Define some evaluation functions\n",
    "\n",
    "from sklearn.metrics import r2_score\n",
    "\n",
    "def denanify(a, b):\n",
    "    mask = ~np.isnan(a) & ~np.isnan(b)\n",
    "    assert mask.sum() > 0\n",
    "    return a[mask], b[mask]\n",
    "\n",
    "def correct_half(a, b):\n",
    "    methylated_guess = a >= 0.5\n",
    "    methylated_exact = b >= 0.5\n",
    "    return (methylated_guess == methylated_exact).sum() / len(methylated_guess)\n",
    "\n",
    "# Function f should return its estimate for the value in 'test_tissue'\n",
    "# at each test_ix location. It gets its own copy of test_tissue, but\n",
    "# train_cols is shared.\n",
    "def eval_fold(f, train_cols, test_tissue, train_tissue_names):\n",
    "    nanned = test_tissue.copy()\n",
    "    nanned[test_ix] = np.nan\n",
    "    guess = f(train_cols, nanned, train_tissue_names)\n",
    "    assert sum(np.isnan(guess)) == 0\n",
    "    # test_ix doesn't have nans in the test_df['filled'] col, but\n",
    "    # within train_df there might be nans here.\n",
    "    exact = test_tissue[test_ix]\n",
    "    if not isinstance(guess, pd.Series):\n",
    "        guess = pd.Series(guess, index=exact.index)\n",
    "    assert len(guess) == len(exact)\n",
    "    guess, exact = denanify(guess, exact)\n",
    "    return np.array([pandas_rmse(guess, exact), correct_half(guess, exact),\n",
    "                     r2_score(exact, guess)])\n",
    "\n",
    "from joblib import Parallel, delayed\n",
    "nproc = 4\n",
    "\n",
    "# Excludes the sparse chromosome from testing.\n",
    "def cv_folds(f, df=train_df, threading='multiprocessing',\n",
    "             additional_cols=[], test_tissues=testable_tissues):\n",
    "    rmse_acc = np.zeros(3)\n",
    "    ctr = 0\n",
    "    arguments = []\n",
    "    for t in test_tissues:\n",
    "        train_cols = train_tissues[:]\n",
    "        train_cols.remove(t)\n",
    "        arguments.append((f, df[train_cols + additional_cols], df[t], train_cols))\n",
    "    folds = [eval_fold(*i) for i in arguments] if not threading else \\\n",
    "            Parallel(n_jobs=nproc, backend=threading) \\\n",
    "                (delayed(eval_fold)(*i) for i in arguments)\n",
    "    return sum(folds) / len(folds)\n",
    "\n",
    "def perfstr(rmse_acc):\n",
    "    return 'rmse {} methylated acc {} R^2 {}'.format(*rmse_acc)"
   ]
  },
  {
   "cell_type": "code",
   "execution_count": 13,
   "metadata": {
    "collapsed": false
   },
   "outputs": [
    {
     "name": "stdout",
     "output_type": "stream",
     "text": [
      "interpolation rmse 0.20477740780970047 methylated acc 0.8897997073920161 R^2 -0.6131129817291857\n",
      "same tissue mean rmse 0.16247889234653728 methylated acc 0.9376303458184835 R^2 -0.015392692439529601\n"
     ]
    }
   ],
   "source": [
    "# No trends.\n",
    "# Let's try imputing from but clearly we can impute from local neighbor data.\n",
    "# Try using no information for our test chromosome as a baseline.\n",
    "\n",
    "# Two simple approaches, with no information from other samples\n",
    "\n",
    "def interpolation(cols, partial, train_tissue_names):\n",
    "    return local_impute(partial).iloc[test_ix]\n",
    "print('interpolation', perfstr(cv_folds(interpolation)))\n",
    "\n",
    "def same_sample_mean(cols, partial, train_tissue_names):\n",
    "    return mean_impute(partial).iloc[test_ix]\n",
    "print('same tissue mean', perfstr(cv_folds(same_sample_mean)))"
   ]
  },
  {
   "cell_type": "code",
   "execution_count": 14,
   "metadata": {
    "collapsed": false
   },
   "outputs": [
    {
     "name": "stdout",
     "output_type": "stream",
     "text": [
      "diff tissue mean rmse 0.1318694424931256 methylated acc 0.9536961889483936 R^2 0.3256145169853153\n"
     ]
    }
   ],
   "source": [
    "# As a dual approach, we can try using only information from the remaining tissues\n",
    "# For example, we might try to take a mean of methylation values along the same site\n",
    "def diff_sample_mean(cols, partial, train_tissue_names):\n",
    "    return cols[train_tissue_names].iloc[test_ix].mean(axis=1)\n",
    "print('diff tissue mean', perfstr(cv_folds(diff_sample_mean)))"
   ]
  },
  {
   "cell_type": "code",
   "execution_count": 15,
   "metadata": {
    "collapsed": false
   },
   "outputs": [
    {
     "name": "stdout",
     "output_type": "stream",
     "text": [
      "1NN rmse 0.09120396089592973 methylated acc 0.968845483260091 R^2 0.6777635739603453\n"
     ]
    }
   ],
   "source": [
    "def nearest_neighbor(cols, partial, train_tissue_names):\n",
    "    nbr = min((pandas_rmse(cols[t].iloc[train_ix], partial.iloc[train_ix]), t)\n",
    "              for t in train_tissue_names)[1]\n",
    "    return cols[nbr].iloc[test_ix]\n",
    "print('1NN', perfstr(cv_folds(nearest_neighbor, df=train_df_imp)))"
   ]
  },
  {
   "cell_type": "code",
   "execution_count": 16,
   "metadata": {
    "collapsed": false
   },
   "outputs": [
    {
     "name": "stdout",
     "output_type": "stream",
     "text": [
      "only tissue data\n",
      "\tOLS              rmse 0.069186 methyl acc 0.976359 R^2 0.813765\n",
      "\tRidge            rmse 0.069097 methyl acc 0.976369 R^2 0.814253\n",
      "\tLasso            rmse 0.069076 methyl acc 0.976358 R^2 0.814326\n",
      "\tRFR              rmse 0.069269 methyl acc 0.975858 R^2 0.813222\n",
      "\tElasticNet       rmse 0.069042 methyl acc 0.976348 R^2 0.814531\n",
      "\tBEST ElasticNet\n",
      "only metadata\n",
      "\tOLS              rmse 181732108808.086761 methyl acc 0.937212 R^2 -1996926199730156628606976.000000\n",
      "\tRidge            rmse 0.154997 methyl acc 0.938248 R^2 0.075668\n",
      "\tLasso            rmse 0.154597 methyl acc 0.938604 R^2 0.080308\n",
      "\tRFR              rmse 0.156543 methyl acc 0.936527 R^2 0.056540\n",
      "\tElasticNet       rmse 0.154595 methyl acc 0.938566 R^2 0.080379\n",
      "\tBEST ElasticNet\n",
      "tissue + metadata\n",
      "\tOLS              rmse 271691236304.916016 methyl acc 0.358193 R^2 -4281700040981022773346304.000000\n",
      "\tRidge            rmse 0.068906 methyl acc 0.976408 R^2 0.815196\n",
      "\tLasso            rmse 0.068943 methyl acc 0.976432 R^2 0.815011\n",
      "\tRFR              rmse 0.069147 methyl acc 0.976000 R^2 0.813836\n",
      "\tElasticNet       rmse 0.068833 methyl acc 0.976386 R^2 0.815616\n",
      "\tBEST ElasticNet\n"
     ]
    }
   ],
   "source": [
    "# Use the well-formedness of the other-tissue data to train a basic lm\n",
    "def sklearn_model(lm, cols, partial, train_tissue_names):\n",
    "    lm.fit(cols.iloc[train_ix], partial.iloc[train_ix])\n",
    "    return lm.predict(cols.iloc[test_ix])\n",
    "\n",
    "from functools import partial\n",
    "from sklearn import linear_model\n",
    "from sklearn import ensemble\n",
    "def log_range(lo, hi): return [10 ** i for i in range(lo, hi)]\n",
    "\n",
    "def sklearn_model_only_metadata(lm, cols, partial, train_tissue_names):\n",
    "    f = list(set(cols.columns) - set(train_tissue_names))\n",
    "    lm.fit(cols[f].iloc[train_ix], partial.iloc[train_ix])\n",
    "    return lm.predict(cols[f].iloc[test_ix])\n",
    "\n",
    "lmmodels = [\n",
    "    ('OLS', linear_model.LinearRegression()),\n",
    "    ('Ridge', linear_model.RidgeCV(alphas=log_range(-1, 4), cv=8)),\n",
    "    ('Lasso', linear_model.LassoCV(alphas=log_range(-6,-1), cv=8)),\n",
    "    ('RFR', ensemble.RandomForestRegressor(n_estimators=100)),\n",
    "    ('ElasticNet', linear_model.ElasticNetCV(l1_ratio=np.arange(.1, 1, .1),\n",
    "                                             alphas=log_range(-5, 5), cv=8)),\n",
    "    #('ARDRegression', linear_model.ARDRegression())\n",
    "]\n",
    "\n",
    "df = train_df_int\n",
    "#df = train_df_imp\n",
    "\n",
    "def run_models(cv_fun):\n",
    "    best = None, [None, None, -np.inf], None\n",
    "    for name, model in lmmodels:\n",
    "        perf = cv_fun(model)\n",
    "        if perf[2] > best[1][2]: best = name, perf\n",
    "        print('\\t{: <16} rmse {:04f} methyl acc {:04f} R^2 {:04f}'.format(name, *perf))\n",
    "    print('\\tBEST', best[0])\n",
    "\n",
    "print('only tissue data')\n",
    "run_models(lambda model: cv_folds(partial(sklearn_model, model), df=df))\n",
    "\n",
    "print('only metadata')\n",
    "run_models(lambda model: cv_folds(partial(sklearn_model_only_metadata, model),\n",
    "                                  df=df, additional_cols=(list(tfs) + ['strand'])))\n",
    "\n",
    "print('tissue + metadata')\n",
    "run_models(lambda model: cv_folds(partial(sklearn_model, model),\n",
    "                                  df=df, additional_cols=(list(tfs) + ['strand'])))"
   ]
  },
  {
   "cell_type": "code",
   "execution_count": 8,
   "metadata": {
    "collapsed": false
   },
   "outputs": [
    {
     "data": {
      "text/plain": [
       "('strand', 'b0', 'ARID3A')"
      ]
     },
     "execution_count": 8,
     "metadata": {},
     "output_type": "execute_result"
    }
   ],
   "source": [
    "useful_cols = list(train_df_imp.columns)\n",
    "useful_cols.remove('chromosome')\n",
    "useful_cols.remove('start')\n",
    "useful_cols.remove('end')\n",
    "npa = train_df_imp[useful_cols].values\n",
    "\n",
    "useful_cols[0], useful_cols[1], useful_cols[35]"
   ]
  },
  {
   "cell_type": "code",
   "execution_count": 9,
   "metadata": {
    "collapsed": false
   },
   "outputs": [
    {
     "data": {
      "text/plain": [
       "(379551, 588)"
      ]
     },
     "execution_count": 9,
     "metadata": {},
     "output_type": "execute_result"
    }
   ],
   "source": [
    "npapush = np.vstack((npa[0].reshape(1, len(npa[0])), npa[:-1]))\n",
    "npapull = np.vstack((npa[1:], npa[-1].reshape(1, len(npa[-1]))))\n",
    "nbrs = np.hstack((npa, npapush, npapull))\n",
    "nbrs.shape"
   ]
  },
  {
   "cell_type": "code",
   "execution_count": 9,
   "metadata": {
    "collapsed": false
   },
   "outputs": [],
   "source": [
    "import numpy as np\n",
    "from sklearn import linear_model \n",
    "nbrs = np.load('/tmp/nbrs.npy')"
   ]
  },
  {
   "cell_type": "code",
   "execution_count": null,
   "metadata": {
    "collapsed": false
   },
   "outputs": [],
   "source": [
    "en = linear_model.ElasticNetCV(cv=10)\n",
    "from sklearn.grid_search import GridSearchCV\n",
    "gs = GridSearchCV(en, {'l1_ratio':np.arange(.9,1,.01)}, n_jobs=2)\n",
    "gs.fit(nbrs[train_ix], test_df['filled'].iloc[train_ix])\n",
    "guess = gs.predict(nbrs[test_ix])\n",
    "exact = test_df['filled'].iloc[test_ix].values\n",
    "\n",
    "rmse = math.sqrt(mean_squared_error(exact, guess))\n",
    "acc = ((exact >= 0.5) == (guess >= 0.5)).sum()#correct_half(exact, guess)\n",
    "r2 = r2_score(exact, guess)\n",
    "res = guess - exact\n",
    "\n",
    "print('interaction on test: rmse {:04f} methyl acc {:04f} R^2 {:04f}'.format(rmse, acc, r2))"
   ]
  },
  {
   "cell_type": "code",
   "execution_count": 17,
   "metadata": {
    "collapsed": false
   },
   "outputs": [
    {
     "name": "stdout",
     "output_type": "stream",
     "text": [
      "memory-based aggr CF over different similarities\n",
      "cosine rmse 0.13076129635912162 methylated acc 0.9544960202961729 R^2 0.3368235828848261\n",
      "canberra rmse 0.12854128714662824 methylated acc 0.9556251939636257 R^2 0.3591848371114346\n",
      "correlation rmse 0.10269469361348192 methylated acc 0.9639252537700195 R^2 0.5919495306590167\n"
     ]
    }
   ],
   "source": [
    "from scipy.spatial import distance\n",
    "\n",
    "def membased_cf(simil, cols, partial, train_tissue_names):\n",
    "    # https://en.wikipedia.org/wiki/Collaborative_filtering\n",
    "    similarities = np.array([simil(cols[t].iloc[train_ix],\n",
    "                                   partial.iloc[train_ix])\n",
    "                             for t in train_tissue_names])\n",
    "    k = np.sum(np.fabs(similarities))\n",
    "    others = cols[train_tissue_names].iloc[test_ix].values\n",
    "    return others.dot(similarities) / k\n",
    "\n",
    "def cosine_similarity(x, y): return 1 - distance.cosine(x, y)\n",
    "def canberra_similarity(x, y): return len(x) - distance.canberra(x, y)\n",
    "def correlation_similarity(x, y):\n",
    "    c = distance.correlation(x, y)\n",
    "    if np.isnan(c): return 0\n",
    "    else: return 1 - c\n",
    "\n",
    "models = [\n",
    "    ('cosine', cosine_similarity),\n",
    "    ('canberra', canberra_similarity),\n",
    "    ('correlation', correlation_similarity)\n",
    "]\n",
    "print('memory-based aggr CF over different similarities')\n",
    "for name, dist in models:\n",
    "    print(name, perfstr(cv_folds(partial(membased_cf, dist), df=train_df_imp)))\n",
    "\n",
    "# TODO: utilize local values somehow: expand features to neighbors somehow?\n",
    "# TODO: regularized SVD-based CF (need to homebrew with tensorflow)\n",
    "# https://github.com/vlad17/TensorFlow-Learn/blob/master/notebooks/mnist.ipynb for svd, above\n",
    "# TODO: GMM on full tissue samples, then do a marginalized posterior from the limited new\n",
    "# sample data (also needs a homebrew EM). Would use a diagonal, +1, -1 band covar matrix and EM algo.\n",
    "# TODO polynomial multiplication with indicators on the feature set."
   ]
  },
  {
   "cell_type": "code",
   "execution_count": 18,
   "metadata": {
    "collapsed": false
   },
   "outputs": [
    {
     "name": "stdout",
     "output_type": "stream",
     "text": [
      "tissue + metadata + CF on mean-imputed\n",
      "\tOLS              rmse 0.069365 methyl acc 0.976390 R^2 0.812750\n",
      "\tRidge            rmse 0.068907 methyl acc 0.976405 R^2 0.815195\n",
      "\tLasso            rmse 0.068943 methyl acc 0.976432 R^2 0.815013\n",
      "\tRFR              rmse 0.069148 methyl acc 0.976030 R^2 0.813825\n",
      "\tElasticNet       rmse 0.068833 methyl acc 0.976385 R^2 0.815618\n",
      "\tBEST ElasticNet\n",
      "tissue + metadata + CF on interpolation-imputed\n",
      "\tOLS              rmse 0.069365 methyl acc 0.976390 R^2 0.812750\n",
      "\tRidge            rmse 0.068907 methyl acc 0.976405 R^2 0.815195\n",
      "\tLasso            rmse 0.068943 methyl acc 0.976432 R^2 0.815013\n",
      "\tRFR              rmse 0.069148 methyl acc 0.976030 R^2 0.813825\n",
      "\tElasticNet       rmse 0.068833 methyl acc 0.976385 R^2 0.815618\n",
      "\tBEST ElasticNet\n"
     ]
    }
   ],
   "source": [
    "def ensemble_regression(lm, cols, partial, train_tissue_names, shallow_copy_cols=True):\n",
    "    simil = correlation_similarity\n",
    "    similarities = np.array([simil(cols[t].iloc[train_ix],\n",
    "                                   partial.iloc[train_ix])\n",
    "                             for t in train_tissue_names])\n",
    "    k = np.sum(np.fabs(similarities))\n",
    "    others = cols[train_tissue_names].values\n",
    "    cf = pd.Series(others.dot(similarities) / k, index=cols.index)\n",
    "    if shallow_copy_cols: cols = cols.copy(deep=False)\n",
    "    cols['cf'] = cf\n",
    "    return sklearn_model(lm, cols, partial, train_tissue_names)\n",
    "print('tissue + metadata + CF on mean-imputed')\n",
    "run_models(lambda model: cv_folds(partial(ensemble_regression, model),\n",
    "                                  df=train_df_imp, additional_cols=(list(tfs) + ['strand'])))\n",
    "print('tissue + metadata + CF on interpolation-imputed')\n",
    "run_models(lambda model: cv_folds(partial(ensemble_regression, model),\n",
    "                                  df=train_df_int, additional_cols=(list(tfs) + ['strand'])))"
   ]
  },
  {
   "cell_type": "code",
   "execution_count": 19,
   "metadata": {
    "collapsed": false
   },
   "outputs": [
    {
     "name": "stdout",
     "output_type": "stream",
     "text": [
      "rmse lm(A) 0.15920270861234573\n",
      "rmse lm(T) 0.06160004287195618\n",
      "rmse cf 0.10307612585646515\n",
      "lmt, cf corr (0.61883937526271282, 0.0)\n",
      "lma, cf corr (0.64535231437714757, 0.0)\n",
      "lma, lmt corr (0.32639296600787815, 0.0)\n"
     ]
    },
    {
     "data": {
      "image/png": "[encoded data removed]",
      "text/plain": [
       "<matplotlib.figure.Figure at 0x7f89a301b9b0>"
      ]
     },
     "metadata": {},
     "output_type": "display_data"
    }
   ],
   "source": [
    "# Let's take a closer look at lm perf for one of our folds.\n",
    "annotations = list(tfs) + ['strand']\n",
    "tissues = train_tissues[:]\n",
    "tissues.remove(closest)\n",
    "\n",
    "lmd = dict(lmmodels)\n",
    "\n",
    "guess_lm_annot = sklearn_model(lmd['ElasticNet'], train_df_imp[annotations],\n",
    "                               train_df_imp[closest], [])\n",
    "guess_lm = sklearn_model(lmd['ElasticNet'], train_df_imp[tissues],\n",
    "                         train_df_imp[closest], tissues)\n",
    "guess_cf = membased_cf(correlation_similarity, train_df_imp[tissues],\n",
    "                       train_df_imp[closest], tissues)\n",
    "\n",
    "exact = train_df_imp[closest].iloc[test_ix]\n",
    "\n",
    "from sklearn.metrics import mean_squared_error\n",
    "print('rmse lm(A)', math.sqrt(mean_squared_error(exact, guess_lm_annot)))\n",
    "print('rmse lm(T)', math.sqrt(mean_squared_error(exact, guess_lm)))\n",
    "print('rmse cf', math.sqrt(mean_squared_error(exact, guess_cf)))\n",
    "\n",
    "res_lma = guess_lm_annot - exact\n",
    "res_lmt = guess_lm - exact\n",
    "res_cf = guess_cf - exact\n",
    "print('lmt, cf corr', scipy.stats.pearsonr(res_lmt, res_cf))\n",
    "print('lma, cf corr', scipy.stats.pearsonr(res_lma, res_cf))\n",
    "print('lma, lmt corr', scipy.stats.pearsonr(res_lma, res_lmt))\n",
    "plt.hist(res_lma, bins=50, alpha=0.7, label='LM(A)')\n",
    "plt.hist(res_cf, bins=50, alpha=0.6, label='CF')\n",
    "plt.hist(res_lmt, bins=50, alpha=0.5, label='LM(T)')\n",
    "plt.xlabel('residual')\n",
    "plt.ylabel('frequency')\n",
    "plt.title('residuals for site-based LM(A) + LM(T) + CF')\n",
    "plt.legend()\n",
    "plt.grid(True)\n",
    "plt.show()"
   ]
  },
  {
   "cell_type": "code",
   "execution_count": 20,
   "metadata": {
    "collapsed": false
   },
   "outputs": [
    {
     "name": "stdout",
     "output_type": "stream",
     "text": [
      "Ensemble on test: rmse 0.059897 methyl acc 0.980256 R^2 0.874534\n"
     ]
    }
   ],
   "source": [
    "useful_cols = list(train_df_imp.columns)\n",
    "useful_cols.remove('chromosome')\n",
    "useful_cols.remove('start')\n",
    "useful_cols.remove('end')\n",
    "\n",
    "# grid search narrowed down by printing alpha, l1_ratio from CV on training above\n",
    "elastic_net = linear_model.ElasticNetCV(l1_ratio=np.arange(.9, 1, .01),\n",
    "                                        alphas=np.arange(0, 1e-3, 1e-5),\n",
    "                                        cv=10)\n",
    "df_with_cf = train_df_int[useful_cols]\n",
    "guess = ensemble_regression(elastic_net, df_with_cf, test_df['filled'],\n",
    "                            train_tissues, shallow_copy_cols=False)\n",
    "exact = test_df['filled'].iloc[test_ix].values\n",
    "\n",
    "rmse = math.sqrt(mean_squared_error(exact, guess))\n",
    "acc = correct_half(exact, guess)\n",
    "r2 = r2_score(exact, guess)\n",
    "res = guess - exact\n",
    "\n",
    "print('Ensemble on test: rmse {:04f} methyl acc {:04f} R^2 {:04f}'.format(rmse, acc, r2))"
   ]
  },
  {
   "cell_type": "code",
   "execution_count": 21,
   "metadata": {
    "collapsed": false
   },
   "outputs": [
    {
     "data": {
      "image/png": "[encoded data removed]",
      "text/plain": [
       "<matplotlib.figure.Figure at 0x7f89a87dacc0>"
      ]
     },
     "metadata": {},
     "output_type": "display_data"
    },
    {
     "name": "stdout",
     "output_type": "stream",
     "text": [
      "sd ratios [4.6196193481454584, 4.1685941509556192]\n"
     ]
    },
    {
     "data": {
      "image/png": "[encoded data removed]",
      "text/plain": [
       "<matplotlib.figure.Figure at 0x7f89a3ccc128>"
      ]
     },
     "metadata": {},
     "output_type": "display_data"
    }
   ],
   "source": [
    "plt.hist(guess - exact, bins=50)\n",
    "plt.xlabel('residual')\n",
    "plt.ylabel('frequency')\n",
    "plt.title('residuals for ensemble')\n",
    "plt.grid(True)\n",
    "plt.show()\n",
    "\n",
    "plt.figure(figsize=(10, 2))\n",
    "ratios = []\n",
    "plt.title('rolling mean (n = 1000) methylation levels')\n",
    "plt.xlabel('genomic position')\n",
    "plt.ylabel('mean methyl. prop.')\n",
    "\n",
    "ratios = []\n",
    "\n",
    "x = local_impute(np.copy(test_df['filled']))\n",
    "rolled = pd.Series(x).rolling(window=1000, win_type='boxcar').mean()\n",
    "ratios.append(np.std(x) / np.std(rolled))\n",
    "actual, = plt.plot(rolled, label='exact')\n",
    "\n",
    "def full_ensemble_prediction():\n",
    "    simil = correlation_similarity\n",
    "    cols = df_with_cf\n",
    "    similarities = np.array([simil(cols[t].iloc[train_ix],\n",
    "                                   test_df['filled'].iloc[train_ix])\n",
    "                             for t in train_tissues])\n",
    "    k = np.sum(np.fabs(similarities))\n",
    "    others = cols[train_tissues].values\n",
    "    cf = pd.Series(others.dot(similarities) / k, index=cols.index)\n",
    "    cols = cols.copy(deep=False)\n",
    "    cols['cf'] = cf\n",
    "    return elastic_net.predict(cols)\n",
    "x = full_ensemble_prediction()\n",
    "rolled = pd.Series(x).rolling(window=1000, win_type='boxcar').mean()\n",
    "ratios.append(np.std(x) / np.std(rolled))\n",
    "guess, = plt.plot(rolled, label='regression', alpha=0.7)\n",
    "\n",
    "print('sd ratios', ratios)\n",
    "plt.legend(handles=[actual,guess])\n",
    "plt.legend(bbox_to_anchor=(1.05, 1), loc=2, borderaxespad=0.)\n",
    "plt.show()"
   ]
  },
  {
   "cell_type": "code",
   "execution_count": 22,
   "metadata": {
    "collapsed": false
   },
   "outputs": [
    {
     "data": {
      "text/plain": [
       "(0.0095296811232219118, 21.34088292175987)"
      ]
     },
     "execution_count": 22,
     "metadata": {},
     "output_type": "execute_result"
    }
   ],
   "source": [
    "np.isnan(test_df['filled']).sum() / len(test_df), 4.6196193481454584 ** 2"
   ]
  },
  {
   "cell_type": "markdown",
   "metadata": {},
   "source": [
    " regularized iterative SVD: for every present user U and some number of factors (dim V)\n",
    " $\\min \\sum_{i,j \\in R} (r_{i,j} - \\mathbf{U}_i \\  \\mathbf{V}_j^T) +  \\lambda (\\sum_i \\lVert \\mathbf{U}_i \\rVert^2   \\sum_j \\lVert \\mathbf{V}_j \\rVert^2)$"
   ]
  }
 ],
 "metadata": {
  "kernelspec": {
   "display_name": "Python 3",
   "language": "python",
   "name": "python3"
  },
  "language_info": {
   "codemirror_mode": {
    "name": "ipython",
    "version": 3
   },
   "file_extension": ".py",
   "mimetype": "text/x-python",
   "name": "python",
   "nbconvert_exporter": "python",
   "pygments_lexer": "ipython3",
   "version": "3.4.3"
  }
 },
 "nbformat": 4,
 "nbformat_minor": 0
}
