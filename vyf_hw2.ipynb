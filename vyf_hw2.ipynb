{
 "cells": [
  {
   "cell_type": "code",
   "execution_count": 1,
   "metadata": {
    "collapsed": false
   },
   "outputs": [],
   "source": [
    "# Imports\n",
    "\n",
    "import numpy as np\n",
    "import pandas as pd\n",
    "import os, os.path\n",
    "from itertools import *\n",
    "%matplotlib inline\n",
    "import matplotlib.pyplot as plt\n",
    "import math\n",
    "import random\n",
    "import scipy.stats\n",
    "import sys\n",
    "\n",
    "# Warnings\n",
    "\n",
    "import warnings\n",
    "warnings.filterwarnings('ignore')\n",
    "\n",
    "# Idempotent data retrieval script\n",
    "\n",
    "chromosomes = [1, 2, 6, 7, 11]\n",
    "def chromosome_files(n):\n",
    "    base = 'intersected_final_chr'\n",
    "    spec = '_cutoff_20_'\n",
    "    suffixes = ['train.bed', 'sample_partial.bed', 'sample_full.bed']\n",
    "    return [base + str(n) + spec + suffix for suffix in suffixes]\n",
    "all_files = set(chain.from_iterable(chromosome_files(n) for n in chromosomes))\n",
    "\n",
    "if 'methylation_imputation' not in [x for x in os.listdir('.') if os.path.isdir(x)]:\n",
    "    raise Exception('Missing assignment repository in cwd')\n",
    "\n",
    "if not os.path.exists('data'):\n",
    "    os.mkdir('data')\n",
    "\n",
    "def all_files_present(): return all_files.issubset(set(os.listdir('data')))\n",
    "if not all_files_present():\n",
    "    ! gunzip -k methylation_imputation/data/*.bed.gz\n",
    "    ! mv methylation_imputation/data/*.bed data/\n",
    "    if not all_files_present():\n",
    "        raise Exception('Error unpacking data')\n",
    "\n",
    "def read_tsv(name): return pd.read_csv(name, sep='\\t', header=None)\n",
    "train_chr1 = read_tsv('data/' + chromosome_files(1)[0])\n",
    "test_chr1_partial = read_tsv('data/' + chromosome_files(1)[1])\n",
    "test_chr1_full = read_tsv('data/' + chromosome_files(1)[2])\n",
    "\n",
    "unknown_chr1_ix = np.where((test_chr1_partial[5] == 0) & ~np.isnan(test_chr1_full[4]))[0]\n",
    "known_chr1_ix = np.where((test_chr1_partial[5] == 1) & ~np.isnan(test_chr1_partial[4]))[0]\n",
    "\n",
    "test_ix = unknown_chr1_ix\n",
    "train_ix = known_chr1_ix\n",
    "\n",
    "train_df = train_chr1\n",
    "train_tissues = ['b' + str(x) for x in range(train_chr1.shape[1] - 4)]\n",
    "train_df.columns = ['chromosome', 'start', 'end', 'strand'] + train_tissues\n",
    "\n",
    "test_df = test_chr1_full\n",
    "test_df.columns = ['chromosome', 'start', 'end', 'strand', 'filled', 'assayed']\n",
    "test_df['missing'] = test_chr1_partial[4]\n",
    "\n",
    "train_df['strand'] = train_df['strand'] == '+'\n",
    "test_df['strand'] = test_df['strand'] == '+'"
   ]
  },
  {
   "cell_type": "code",
   "execution_count": 2,
   "metadata": {
    "collapsed": false
   },
   "outputs": [
    {
     "data": {
      "text/html": [
       "<div>\n",
       "<table border=\"1\" class=\"dataframe\">\n",
       "  <thead>\n",
       "    <tr style=\"text-align: right;\">\n",
       "      <th></th>\n",
       "      <th>chromosome</th>\n",
       "      <th>start</th>\n",
       "      <th>end</th>\n",
       "      <th>strand</th>\n",
       "      <th>b0</th>\n",
       "      <th>b1</th>\n",
       "      <th>b2</th>\n",
       "      <th>b3</th>\n",
       "      <th>b4</th>\n",
       "      <th>b5</th>\n",
       "      <th>...</th>\n",
       "      <th>b24</th>\n",
       "      <th>b25</th>\n",
       "      <th>b26</th>\n",
       "      <th>b27</th>\n",
       "      <th>b28</th>\n",
       "      <th>b29</th>\n",
       "      <th>b30</th>\n",
       "      <th>b31</th>\n",
       "      <th>b32</th>\n",
       "      <th>b33</th>\n",
       "    </tr>\n",
       "  </thead>\n",
       "  <tbody>\n",
       "    <tr>\n",
       "      <th>267</th>\n",
       "      <td>chr1</td>\n",
       "      <td>121511</td>\n",
       "      <td>121513</td>\n",
       "      <td>True</td>\n",
       "      <td>0.714286</td>\n",
       "      <td>0.739130</td>\n",
       "      <td>0.800000</td>\n",
       "      <td>0.782609</td>\n",
       "      <td>0.794872</td>\n",
       "      <td>0.750000</td>\n",
       "      <td>...</td>\n",
       "      <td>0.860465</td>\n",
       "      <td>0.789474</td>\n",
       "      <td>NaN</td>\n",
       "      <td>0.727273</td>\n",
       "      <td>0.896552</td>\n",
       "      <td>0.810811</td>\n",
       "      <td>0.809524</td>\n",
       "      <td>0.842105</td>\n",
       "      <td>0.880000</td>\n",
       "      <td>0</td>\n",
       "    </tr>\n",
       "    <tr>\n",
       "      <th>268</th>\n",
       "      <td>chr1</td>\n",
       "      <td>121516</td>\n",
       "      <td>121518</td>\n",
       "      <td>True</td>\n",
       "      <td>0.857143</td>\n",
       "      <td>0.800000</td>\n",
       "      <td>0.833333</td>\n",
       "      <td>0.913043</td>\n",
       "      <td>0.909091</td>\n",
       "      <td>0.806452</td>\n",
       "      <td>...</td>\n",
       "      <td>0.931818</td>\n",
       "      <td>0.888889</td>\n",
       "      <td>NaN</td>\n",
       "      <td>0.840000</td>\n",
       "      <td>0.862069</td>\n",
       "      <td>0.756757</td>\n",
       "      <td>0.916667</td>\n",
       "      <td>0.833333</td>\n",
       "      <td>0.916667</td>\n",
       "      <td>0</td>\n",
       "    </tr>\n",
       "    <tr>\n",
       "      <th>269</th>\n",
       "      <td>chr1</td>\n",
       "      <td>122736</td>\n",
       "      <td>122738</td>\n",
       "      <td>False</td>\n",
       "      <td>0.545455</td>\n",
       "      <td>0.384615</td>\n",
       "      <td>0.472727</td>\n",
       "      <td>NaN</td>\n",
       "      <td>0.436364</td>\n",
       "      <td>0.580000</td>\n",
       "      <td>...</td>\n",
       "      <td>0.487179</td>\n",
       "      <td>NaN</td>\n",
       "      <td>NaN</td>\n",
       "      <td>NaN</td>\n",
       "      <td>0.413043</td>\n",
       "      <td>0.462963</td>\n",
       "      <td>0.533333</td>\n",
       "      <td>0.659574</td>\n",
       "      <td>0.682927</td>\n",
       "      <td>0</td>\n",
       "    </tr>\n",
       "    <tr>\n",
       "      <th>270</th>\n",
       "      <td>chr1</td>\n",
       "      <td>122869</td>\n",
       "      <td>122871</td>\n",
       "      <td>False</td>\n",
       "      <td>0.837838</td>\n",
       "      <td>0.814815</td>\n",
       "      <td>0.725000</td>\n",
       "      <td>0.807692</td>\n",
       "      <td>0.710526</td>\n",
       "      <td>0.565217</td>\n",
       "      <td>...</td>\n",
       "      <td>0.629630</td>\n",
       "      <td>NaN</td>\n",
       "      <td>NaN</td>\n",
       "      <td>NaN</td>\n",
       "      <td>0.755556</td>\n",
       "      <td>0.590909</td>\n",
       "      <td>0.681818</td>\n",
       "      <td>0.657143</td>\n",
       "      <td>NaN</td>\n",
       "      <td>0</td>\n",
       "    </tr>\n",
       "    <tr>\n",
       "      <th>271</th>\n",
       "      <td>chr1</td>\n",
       "      <td>122884</td>\n",
       "      <td>122886</td>\n",
       "      <td>False</td>\n",
       "      <td>0.842105</td>\n",
       "      <td>0.821429</td>\n",
       "      <td>0.720930</td>\n",
       "      <td>0.800000</td>\n",
       "      <td>0.795455</td>\n",
       "      <td>0.478261</td>\n",
       "      <td>...</td>\n",
       "      <td>0.617021</td>\n",
       "      <td>NaN</td>\n",
       "      <td>NaN</td>\n",
       "      <td>NaN</td>\n",
       "      <td>0.682927</td>\n",
       "      <td>0.562500</td>\n",
       "      <td>0.739130</td>\n",
       "      <td>0.666667</td>\n",
       "      <td>0.756098</td>\n",
       "      <td>0</td>\n",
       "    </tr>\n",
       "    <tr>\n",
       "      <th>272</th>\n",
       "      <td>chr1</td>\n",
       "      <td>127749</td>\n",
       "      <td>127751</td>\n",
       "      <td>True</td>\n",
       "      <td>0.633333</td>\n",
       "      <td>0.473684</td>\n",
       "      <td>0.703704</td>\n",
       "      <td>0.611111</td>\n",
       "      <td>0.827586</td>\n",
       "      <td>0.666667</td>\n",
       "      <td>...</td>\n",
       "      <td>0.782609</td>\n",
       "      <td>0.800000</td>\n",
       "      <td>NaN</td>\n",
       "      <td>0.812500</td>\n",
       "      <td>0.500000</td>\n",
       "      <td>0.812500</td>\n",
       "      <td>0.840909</td>\n",
       "      <td>0.687500</td>\n",
       "      <td>0.807692</td>\n",
       "      <td>0</td>\n",
       "    </tr>\n",
       "  </tbody>\n",
       "</table>\n",
       "<p>6 rows × 38 columns</p>\n",
       "</div>"
      ],
      "text/plain": [
       "    chromosome   start     end strand        b0        b1        b2        b3  \\\n",
       "267       chr1  121511  121513   True  0.714286  0.739130  0.800000  0.782609   \n",
       "268       chr1  121516  121518   True  0.857143  0.800000  0.833333  0.913043   \n",
       "269       chr1  122736  122738  False  0.545455  0.384615  0.472727       NaN   \n",
       "270       chr1  122869  122871  False  0.837838  0.814815  0.725000  0.807692   \n",
       "271       chr1  122884  122886  False  0.842105  0.821429  0.720930  0.800000   \n",
       "272       chr1  127749  127751   True  0.633333  0.473684  0.703704  0.611111   \n",
       "\n",
       "           b4        b5 ...        b24       b25  b26       b27       b28  \\\n",
       "267  0.794872  0.750000 ...   0.860465  0.789474  NaN  0.727273  0.896552   \n",
       "268  0.909091  0.806452 ...   0.931818  0.888889  NaN  0.840000  0.862069   \n",
       "269  0.436364  0.580000 ...   0.487179       NaN  NaN       NaN  0.413043   \n",
       "270  0.710526  0.565217 ...   0.629630       NaN  NaN       NaN  0.755556   \n",
       "271  0.795455  0.478261 ...   0.617021       NaN  NaN       NaN  0.682927   \n",
       "272  0.827586  0.666667 ...   0.782609  0.800000  NaN  0.812500  0.500000   \n",
       "\n",
       "          b29       b30       b31       b32  b33  \n",
       "267  0.810811  0.809524  0.842105  0.880000    0  \n",
       "268  0.756757  0.916667  0.833333  0.916667    0  \n",
       "269  0.462963  0.533333  0.659574  0.682927    0  \n",
       "270  0.590909  0.681818  0.657143       NaN    0  \n",
       "271  0.562500  0.739130  0.666667  0.756098    0  \n",
       "272  0.812500  0.840909  0.687500  0.807692    0  \n",
       "\n",
       "[6 rows x 38 columns]"
      ]
     },
     "execution_count": 2,
     "metadata": {},
     "output_type": "execute_result"
    }
   ],
   "source": [
    "train_df.loc[range(267, 273)]"
   ]
  },
  {
   "cell_type": "code",
   "execution_count": 3,
   "metadata": {
    "collapsed": false
   },
   "outputs": [
    {
     "name": "stdout",
     "output_type": "stream",
     "text": [
      "Chromosome 1\n",
      "Total samples 379551\n",
      "Site lengths {2: 379551}\n",
      "Strand types {False: 1464, True: 378087}\n",
      "Known (test) sample site counts 7523\n",
      "Unknown (test) sample site counts 368411\n",
      "NaN ratio in all train samples 0.0849950103582\n",
      "NaN ratio in test 0.980179211753\n"
     ]
    }
   ],
   "source": [
    "assert len(train_df) == len(test_df)\n",
    "def count_unique(col):\n",
    "    return {x:sum(col == x) for x in set(col)}\n",
    "\n",
    "print('Chromosome 1')\n",
    "print('Total samples', len(train_df))\n",
    "print('Site lengths', count_unique(train_df['end'] - train_chr1['start']))\n",
    "print('Strand types', count_unique(train_df['strand']))\n",
    "print('Known (test) sample site counts', len(known_chr1_ix))\n",
    "print('Unknown (test) sample site counts', len(unknown_chr1_ix))\n",
    "print('NaN ratio in all train samples',\n",
    "      sum(sum(np.isnan(train_df[train_tissues].values))) / (len(train_df) * len(train_tissues)))\n",
    "print('NaN ratio in test', sum(np.isnan(test_df['missing'])) / len(test_df))\n",
    "assert sum(test_df['strand'] != train_df['strand']) == 0"
   ]
  },
  {
   "cell_type": "code",
   "execution_count": 4,
   "metadata": {
    "collapsed": false
   },
   "outputs": [
    {
     "data": {
      "image/png": "[encoded data removed]",
      "text/plain": [
       "<matplotlib.figure.Figure at 0x7eff7e968358>"
      ]
     },
     "metadata": {},
     "output_type": "display_data"
    },
    {
     "name": "stdout",
     "output_type": "stream",
     "text": [
      "avg length between known sites 50.2903483116\n",
      "sd of number of bp between sites 86.9614546017\n"
     ]
    },
    {
     "data": {
      "image/png": "[encoded data removed]",
      "text/plain": [
       "<matplotlib.figure.Figure at 0x7eff7da6f6a0>"
      ]
     },
     "metadata": {},
     "output_type": "display_data"
    }
   ],
   "source": [
    "# Make sure our samples are pretty uniform from the genomic range\n",
    "def ticks(n): return np.arange(0.0, n) / n\n",
    "plt.plot(ticks(len(known_chr1_ix)), known_chr1_ix / len(train_df), '.')\n",
    "plt.plot([0, 1])\n",
    "plt.axes().set_aspect('equal')\n",
    "plt.xlabel('CpG sample')\n",
    "plt.ylabel('entire chromosome')\n",
    "plt.title('QQ-plot of site positions')\n",
    "plt.grid(True)\n",
    "plt.show()\n",
    "\n",
    "diffs = np.diff(known_chr1_ix)\n",
    "print('avg length between known sites', np.mean(diffs))\n",
    "print('sd of number of bp between sites', np.std(diffs))\n",
    "plt.plot(np.diff(known_chr1_ix))\n",
    "plt.xlabel('length between known sites')\n",
    "plt.ylabel('frequency')\n",
    "plt.title('histogram of adjacent site information')\n",
    "plt.grid(True)\n",
    "plt.show()"
   ]
  },
  {
   "cell_type": "code",
   "execution_count": 5,
   "metadata": {
    "collapsed": false
   },
   "outputs": [
    {
     "data": {
      "image/png": "[encoded data removed]",
      "text/plain": [
       "<matplotlib.figure.Figure at 0x7eff7d9f7198>"
      ]
     },
     "metadata": {},
     "output_type": "display_data"
    }
   ],
   "source": [
    "# Observe nearby site correlations\n",
    "def drop_nan_corr(x, y):\n",
    "    ix = np.where(~np.isnan(y) & ~np.isnan(x))\n",
    "    return scipy.stats.pearsonr(x[ix], y[ix])[0]\n",
    "# Choose a random site, check neighbors within vicinity of 'reach'\n",
    "reach = list(range(30))\n",
    "reach = [-x for x in reversed(reach)] + reach[1:]\n",
    "def sample_corr(reach):\n",
    "    site = random.randint(max(reach), len(train_chr1) - max(reach) - 1)\n",
    "    y = np.array(train_df.iloc[site][train_tissues[:-1]]\n",
    "                 .values).astype(np.float64)\n",
    "    nbrs = [site + i for i in reach]\n",
    "    xs = np.array(train_df.iloc[nbrs][train_tissues[:-1]]\n",
    "                  .values).astype(np.float64)\n",
    "    return np.array([drop_nan_corr(x, y) for x in xs])\n",
    "\n",
    "sample = 1000\n",
    "test = np.array([sample_corr(reach) for i in range(sample)])\n",
    "plt.errorbar(reach, np.mean(test, axis=0), fmt='-o', yerr=np.std(test, axis=0))\n",
    "plt.title('within tissue neighbor correlation (n={})'.format(sample))\n",
    "plt.ylabel('across tissue samples')\n",
    "plt.xlabel('site displacement')\n",
    "plt.show()"
   ]
  },
  {
   "cell_type": "code",
   "execution_count": 6,
   "metadata": {
    "collapsed": false
   },
   "outputs": [
    {
     "data": {
      "image/png": "[encoded data removed]",
      "text/plain": [
       "<matplotlib.figure.Figure at 0x7eff7d898da0>"
      ]
     },
     "metadata": {},
     "output_type": "display_data"
    },
    {
     "name": "stdout",
     "output_type": "stream",
     "text": [
      "orig : rolling mean stddevs [4.8264430391409112, 4.6245001454552384, 11.339790875795508]\n"
     ]
    }
   ],
   "source": [
    "# Perhaps there are obvious sequence trends?\n",
    "def local_impute(data):\n",
    "    #http://stackoverflow.com/questions/9537543/replace-nans-in-numpy-array-with-closest-non-nan-value\n",
    "    mask = np.isnan(data)\n",
    "    data[mask] = np.interp(np.flatnonzero(mask), np.flatnonzero(~mask), data[~mask])\n",
    "    return data\n",
    "\n",
    "plt.figure(figsize=(10, 2))\n",
    "ratios = []\n",
    "plt.title('rolling mean (n = 1000) methylation levels in train tissues 0, 1, 33')\n",
    "plt.xlabel('genomic position')\n",
    "plt.ylabel('mean methyl. prop.')\n",
    "\n",
    "x = local_impute(np.copy(train_df['b0']))\n",
    "rolled = pd.Series(x).rolling(window=1000, win_type='boxcar').mean()\n",
    "ratios.append(np.std(x) / np.std(rolled))\n",
    "l0, = plt.plot(rolled, label='0')\n",
    "\n",
    "x = local_impute(np.copy(train_df['b1']))\n",
    "rolled = pd.Series(x).rolling(window=1000, win_type='boxcar').mean()\n",
    "ratios.append(np.std(x) / np.std(rolled))\n",
    "l1, = plt.plot(rolled, label='1')\n",
    "\n",
    "x = local_impute(np.copy(train_df['b33']))\n",
    "rolled = pd.Series(x).rolling(window=1000, win_type='boxcar').mean()\n",
    "ratios.append(np.std(x) / np.std(rolled))\n",
    "l33, = plt.plot(rolled, label='33')\n",
    "\n",
    "plt.legend(handles=[l0, l1, l33])\n",
    "plt.legend(bbox_to_anchor=(1.05, 1), loc=2, borderaxespad=0.)\n",
    "plt.show()\n",
    "print('orig : rolling mean stddevs', ratios)"
   ]
  },
  {
   "cell_type": "code",
   "execution_count": 7,
   "metadata": {
    "collapsed": false
   },
   "outputs": [
    {
     "name": "stdout",
     "output_type": "stream",
     "text": [
      "Training tissue sparsities [0.0, 0.0, 0.0, 0.0, 0.0, 0.0, 0.0, 0.0, 0.0, 0.0, 0.0, 0.0, 0.0, 0.0, 0.0, 0.0, 0.0, 0.0, 0.0, 0.0, 0.0, 0.0, 0.0, 0.0, 0.0, 0.0, 0.0, 0.0, 0.0, 0.0, 0.0, 0.0, 0.0, 0.97994999354500445]\n",
      "Sample sparsity 0.0\n"
     ]
    }
   ],
   "source": [
    "# Sparsity\n",
    "print('Training tissue sparsities', [sum(train_df[i] <= 0.01) / len(train_df) for i in train_tissues])\n",
    "print('Sample sparsity', sum(test_df['filled'][train_ix] == 0.01) / len(train_ix))"
   ]
  },
  {
   "cell_type": "code",
   "execution_count": 23,
   "metadata": {
    "collapsed": false
   },
   "outputs": [],
   "source": [
    "# Define some evaluation functions\n",
    "\n",
    "def denanify(a, b):\n",
    "    mask = ~np.isnan(a) & ~np.isnan(b)\n",
    "    assert sum(mask) > 0\n",
    "    return a[mask], b[mask]\n",
    "\n",
    "def pandas_rmse(a, b):\n",
    "    # http://stackoverflow.com/questions/27783494/root-mean-square-error-of-two-pandas-series\n",
    "    return math.sqrt(a.sub(b).pow(2).mean())\n",
    "\n",
    "def correct_half(a, b):\n",
    "    methylated_guess = a >= 0.5\n",
    "    methylated_exact = b >= 0.5\n",
    "    return sum(methylated_guess == methylated_exact) / len(methylated_guess)\n",
    "\n",
    "# Function f should return its estimate for the value in 'test_tissue'\n",
    "# at each test_ix location. It gets its own copy of test_tissue, but\n",
    "# train_cols is shared.\n",
    "def eval_fold(f, train_cols, test_tissue, train_tissue_names):\n",
    "    nanned = test_tissue.copy()\n",
    "    nanned[test_ix] = np.nan\n",
    "    guess = f(train_cols, nanned, train_tissue_names)\n",
    "    assert sum(np.isnan(guess)) == 0\n",
    "    # test_ix doesn't have nans in the test_df['filled'] col, but\n",
    "    # within train_df there might be nans here.\n",
    "    exact = test_tissue[test_ix]\n",
    "    if not isinstance(guess, pd.Series):\n",
    "        guess = pd.Series(guess, index=exact.index)\n",
    "    assert len(guess) == len(exact)\n",
    "    guess, exact = denanify(guess, exact)\n",
    "    return np.array([pandas_rmse(guess, exact), correct_half(guess, exact)])\n",
    "\n",
    "from joblib import Parallel, delayed\n",
    "nproc = 4\n",
    "\n",
    "# Excludes the sparse chromosome from testing.\n",
    "def cv_folds(f, df=train_df, threading='multiprocessing'):\n",
    "    test_tissues = train_tissues[:-1]\n",
    "    rmse_acc = np.zeros(2)\n",
    "    ctr = 0\n",
    "    arguments = []\n",
    "    for t in test_tissues:\n",
    "        train_cols = train_tissues[:]\n",
    "        train_cols.remove(t)\n",
    "        train_cols += ['strand'] # TODO: encode data\n",
    "        arguments.append((f, df[train_cols], df[t], train_cols))\n",
    "    folds = [eval_fold(*i) for i in arguments] if not threading else \\\n",
    "            Parallel(n_jobs=nproc, backend=threading) \\\n",
    "                (delayed(eval_fold)(*i) for i in arguments)\n",
    "    return sum(folds) / len(folds)\n",
    "\n",
    "def perfstr(rmse_acc):\n",
    "    return 'rmse {} methylated acc {}'.format(*rmse_acc)"
   ]
  },
  {
   "cell_type": "code",
   "execution_count": 11,
   "metadata": {
    "collapsed": false
   },
   "outputs": [
    {
     "name": "stdout",
     "output_type": "stream",
     "text": [
      "interpolation rmse 0.23598852306080018 methylated acc 0.8086466369349822\n",
      "same tissue mean rmse 0.19061351784292757 methylated acc 0.8847172102962194\n"
     ]
    }
   ],
   "source": [
    "# No trends.\n",
    "# Let's try imputing from but clearly we can impute from local neighbor data.\n",
    "# Try using no information for our test chromosome as a baseline.\n",
    "\n",
    "# Two simple approaches, with no information from other samples\n",
    "\n",
    "def interpolation(cols, partial, train_tissue_names):\n",
    "    return local_impute(partial).iloc[test_ix]\n",
    "print('interpolation', perfstr(cv_folds(interpolation)))\n",
    "\n",
    "def mean_impute(data):\n",
    "    mask = np.isnan(data)\n",
    "    data[mask] = float(data.mean()) # just = m messes with serialization\n",
    "    return data\n",
    "\n",
    "def same_sample_mean(cols, partial, train_tissue_names):\n",
    "    return mean_impute(partial).iloc[test_ix]\n",
    "print('same tissue mean', perfstr(cv_folds(same_sample_mean)))"
   ]
  },
  {
   "cell_type": "code",
   "execution_count": 12,
   "metadata": {
    "collapsed": false
   },
   "outputs": [
    {
     "name": "stdout",
     "output_type": "stream",
     "text": [
      "diff tissue mean rmse 0.1428387141683678 methylated acc 0.9109640807386484\n"
     ]
    }
   ],
   "source": [
    "# As a dual approach, we can try using only information from the remaining tissues\n",
    "# For example, we might try to take a mean of methylation values along the same site\n",
    "def diff_sample_mean(cols, partial, train_tissue_names):\n",
    "    return cols[train_tissue_names].iloc[test_ix].mean(axis=1)\n",
    "print('diff tissue mean', perfstr(cv_folds(diff_sample_mean)))"
   ]
  },
  {
   "cell_type": "code",
   "execution_count": 13,
   "metadata": {
    "collapsed": false
   },
   "outputs": [
    {
     "data": {
      "text/plain": [
       "0"
      ]
     },
     "execution_count": 13,
     "metadata": {},
     "output_type": "execute_result"
    }
   ],
   "source": [
    "# Do local imputation on our training data.\n",
    "train_df_imp = train_df\n",
    "for i in train_tissues:\n",
    "    train_df_imp[i] = mean_impute(train_df[i].copy())\n",
    "sum(sum(np.isnan(train_df_imp[train_tissues].values)))"
   ]
  },
  {
   "cell_type": "code",
   "execution_count": 28,
   "metadata": {
    "collapsed": false
   },
   "outputs": [
    {
     "name": "stdout",
     "output_type": "stream",
     "text": [
      "OLS rmse 0.09235757785888475 methylated acc 0.9496019884906209\n",
      "Ridge rmse 0.09231778317942294 methylated acc 0.9495822476922391\n",
      "Lasso rmse 0.09225219661446737 methylated acc 0.949593516397982\n",
      "RFR rmse 0.09296418390803307 methylated acc 0.9483394821807626\n"
     ]
    }
   ],
   "source": [
    "# Use the well-formedness of the other-tissue data to train a basic lm\n",
    "def sklearn_model(lm, cols, partial, train_tissue_names):\n",
    "    lm.fit(cols.iloc[train_ix], partial.iloc[train_ix])\n",
    "    return lm.predict(cols.iloc[test_ix])\n",
    "\n",
    "from functools import partial\n",
    "from sklearn import linear_model\n",
    "from sklearn import ensemble\n",
    "def log_range(lo, hi): return [10 ** i for i in range(lo, hi)]\n",
    "regs = log_range(-4, 4)\n",
    "\n",
    "models = [\n",
    "    ('OLS', linear_model.LinearRegression()),\n",
    "    ('Ridge', linear_model.RidgeCV(alphas=regs)),\n",
    "    ('Lasso', linear_model.LassoCV(alphas=regs)),\n",
    "    ('RFR', ensemble.RandomForestRegressor(n_estimators=50))\n",
    "]\n",
    "\n",
    "for name, model in models:\n",
    "    print(name, perfstr(cv_folds(partial(sklearn_model, model), df=train_df_imp)))"
   ]
  },
  {
   "cell_type": "code",
   "execution_count": null,
   "metadata": {
    "collapsed": false
   },
   "outputs": [],
   "source": [
    "def plotresid(model, name):\n",
    "    res = model.predict(train_df_interp.iloc[test_ix][df_feat].values)\n",
    "    res -= test_df.iloc[test_ix]['filled']\n",
    "    plt.hist(res, bins=50)\n",
    "    plt.xlabel('residual')\n",
    "    plt.ylabel('frequency')\n",
    "    plt.title('residuals for site-based ' + name)\n",
    "    plt.grid(True)\n",
    "    plt.show()"
   ]
  },
  {
   "cell_type": "code",
   "execution_count": null,
   "metadata": {
    "collapsed": false
   },
   "outputs": [],
   "source": [
    "# Annoying R interfacing for beta regression\n",
    "\n",
    "# https://sites.google.com/site/aslugsguidetopython/data-analysis/pandas/calling-r-from-python\n",
    "\n",
    "# TODO rm extra imports\n",
    "#from numpy import *\n",
    "#import scipy as sp\n",
    "#from pandas import *\n",
    "from rpy2.robjects.packages import importr\n",
    "import rpy2.robjects as ro\n",
    "import pandas.rpy.common as com\n",
    "import rpy2.robjects.numpy2ri\n",
    "rpy2.robjects.numpy2ri.activate()\n",
    "\n",
    "train_rdf = com.convert_to_r_dataframe(train_df_imp)\n",
    "test_rdf = com.convert_to_r_dataframe(test_df)"
   ]
  },
  {
   "cell_type": "code",
   "execution_count": null,
   "metadata": {
    "collapsed": false
   },
   "outputs": [],
   "source": [
    "ro.globalenv['train_rdf'] = train_rdf\n",
    "ro.globalenv['test_rdf'] = test_rdf\n",
    "ro.globalenv['train_ix'] = train_ix + 1\n",
    "ro.globalenv['test_ix'] = test_ix + 1"
   ]
  },
  {
   "cell_type": "code",
   "execution_count": null,
   "metadata": {
    "collapsed": false
   },
   "outputs": [],
   "source": [
    "rcmd = 'lm(test_rdf$filled ~ ' + ' + '.join(train_tissues) + ', data=train_rdf, subset=train_ix)'\n",
    "ro.r('fit <- ' + rcmd)\n",
    "print(ro.r('summary(fit)'))"
   ]
  },
  {
   "cell_type": "code",
   "execution_count": null,
   "metadata": {
    "collapsed": false
   },
   "outputs": [],
   "source": [
    "rpred = 'predict(fit, train_rdf[test_ix,])'\n",
    "rexact = 'test_rdf[test_ix,]$filled'\n",
    "print('lm rmse', ro.r('sqrt(mean((' + rpred + '-' + rexact + ') ^ 2))'))\n",
    "ro.r('linear_coef <- coef(fit)')\n",
    "ro.r('linear_coef[length(linear_coef)] = 0')\n",
    "ro.r('linear_coef')"
   ]
  },
  {
   "cell_type": "code",
   "execution_count": null,
   "metadata": {
    "collapsed": false
   },
   "outputs": [],
   "source": [
    "importr('betareg')\n",
    "# chr33 is mostly sparse, not converging with it\n",
    "rcmd = 'betareg(test_rdf$filled ~ ' + ' + '.join(train_tissues[:-1]) + \\\n",
    "    ', data=train_rdf, subset=train_ix' + \\\n",
    "    ', start=list(mean=head(linear_coef, -1), precision=1))'\n",
    "ro.r('fit <- ' + rcmd)\n",
    "print(ro.r('summary(fit)'))\n",
    "rpred = 'predict(fit, train_rdf[test_ix,])'\n",
    "rexact = 'test_rdf[test_ix,]$filled'\n",
    "print(ro.r('sqrt(mean((' + rpred + '-' + rexact + ') ^ 2))'))"
   ]
  }
 ],
 "metadata": {
  "kernelspec": {
   "display_name": "Python 3",
   "language": "python",
   "name": "python3"
  },
  "language_info": {
   "codemirror_mode": {
    "name": "ipython",
    "version": 3
   },
   "file_extension": ".py",
   "mimetype": "text/x-python",
   "name": "python",
   "nbconvert_exporter": "python",
   "pygments_lexer": "ipython3",
   "version": "3.4.3"
  }
 },
 "nbformat": 4,
 "nbformat_minor": 0
}
